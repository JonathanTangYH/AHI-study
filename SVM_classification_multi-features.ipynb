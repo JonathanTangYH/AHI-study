{
 "cells": [
  {
   "cell_type": "markdown",
   "id": "bf4dc474",
   "metadata": {},
   "source": [
    "# set up"
   ]
  },
  {
   "cell_type": "code",
   "execution_count": 1,
   "id": "0efe1fef",
   "metadata": {},
   "outputs": [],
   "source": [
    "# Python ≥3.5 is required\n",
    "import sys\n",
    "assert sys.version_info >= (3, 5)\n",
    "\n",
    "# Scikit-Learn ≥0.20 is required\n",
    "import sklearn\n",
    "assert sklearn.__version__ >= \"0.20\"\n",
    "\n",
    "# Common imports\n",
    "import numpy as np\n",
    "import os\n",
    "\n",
    "# to make this notebook's output stable across runs\n",
    "np.random.seed(42)\n",
    "\n",
    "# To plot pretty figures\n",
    "%matplotlib inline\n",
    "import matplotlib as mpl\n",
    "import matplotlib.pyplot as plt\n",
    "mpl.rc('axes', labelsize=14)\n",
    "mpl.rc('xtick', labelsize=12)\n",
    "mpl.rc('ytick', labelsize=12)\n",
    "\n",
    "# Where to save the figures\n",
    "PROJECT_ROOT_DIR = \".\"\n",
    "CHAPTER_ID = \"decision_trees\"\n",
    "IMAGES_PATH = os.path.join(PROJECT_ROOT_DIR, \"images\", CHAPTER_ID)\n",
    "os.makedirs(IMAGES_PATH, exist_ok=True)\n",
    "\n",
    "def save_fig(fig_id, tight_layout=True, fig_extension=\"png\", resolution=300):\n",
    "    path = os.path.join(IMAGES_PATH, fig_id + \".\" + fig_extension)\n",
    "    print(\"Saving figure\", fig_id)\n",
    "    if tight_layout:\n",
    "        plt.tight_layout()\n",
    "    plt.savefig(path, format=fig_extension, dpi=resolution)"
   ]
  },
  {
   "cell_type": "markdown",
   "id": "1c0aec7e",
   "metadata": {},
   "source": [
    "# import dataset"
   ]
  },
  {
   "cell_type": "markdown",
   "id": "13ee0ba7",
   "metadata": {},
   "source": [
    "## read data from excel"
   ]
  },
  {
   "cell_type": "code",
   "execution_count": 2,
   "id": "406c7aac",
   "metadata": {},
   "outputs": [],
   "source": [
    "import pandas as pd\n",
    "data = pd.read_excel(r'C:\\Users\\ASUS\\Desktop\\machine learning\\MLfinalReport\\AHIdata.xlsx')"
   ]
  },
  {
   "cell_type": "markdown",
   "id": "f91b1055",
   "metadata": {},
   "source": [
    "## extract y from excel"
   ]
  },
  {
   "cell_type": "code",
   "execution_count": 3,
   "id": "58e5a2e5",
   "metadata": {},
   "outputs": [
    {
     "name": "stdout",
     "output_type": "stream",
     "text": [
      "<class 'pandas.core.frame.DataFrame'>\n"
     ]
    }
   ],
   "source": [
    "df = pd.DataFrame(data, columns=['rescored AHI'])\n",
    "print(type(df))#datatype is pd.dataframe not numpy array\n",
    "df_2D = df.to_numpy()#convert into numpy array\n",
    "#print(df_2D)#now it is numpy 2d array"
   ]
  },
  {
   "cell_type": "code",
   "execution_count": 4,
   "id": "e435c701",
   "metadata": {
    "scrolled": true
   },
   "outputs": [
    {
     "name": "stdout",
     "output_type": "stream",
     "text": [
      "[ 15.2  12.   27.8  71.2  34.3  86.9  17.5  78.3  40.5  21.2  94.7  40.2\n",
      "  41.1  11.5  61.4 108.8  59.6  24.1   9.5  33.2  11.9  76.7  29.7  23.7\n",
      "  38.   79.9  13.8  61.9   8.8   8.5  37.1  38.7  33.9  46.4  34.5  25.8\n",
      "  82.3  13.4  85.4  42.9  24.3  37.8  16.9  47.6  50.   21.1   1.6   2.1\n",
      "  12.3  66.3  27.9  17.    2.   11.   53.   20.8  50.9  15.6  66.2  56.1\n",
      "  49.8  10.2  77.7   7.2   3.   47.3  78.9  15.6   9.   47.2  12.    7.6\n",
      "  42.3  26.3   7.5  31.5   1.9  15.8  11.6   8.5  20.5  52.4  20.2  16.6\n",
      "  19.8  37.9  60.2  36.1  24.5  24.6  22.4  30.   16.9   7.7   8.8   7.1\n",
      "  39.1   4.6   1.8  97.3  60.5   6.9  28.3  41.   75.   13.7  89.2  76.5\n",
      "  85.   77.   51.2   3.3  78.1   7.9  26.9  80.5  30.9  66.9   2.3]\n"
     ]
    }
   ],
   "source": [
    "y_stack = df_2D.flatten()#flatten into 1d array\n",
    "print(y_stack)"
   ]
  },
  {
   "cell_type": "markdown",
   "id": "c97dcaf5",
   "metadata": {},
   "source": [
    "## encoding y_stack"
   ]
  },
  {
   "cell_type": "code",
   "execution_count": 5,
   "id": "c7b74ca9",
   "metadata": {},
   "outputs": [],
   "source": [
    "for count in range (0, 119):\n",
    "    if y_stack[count]>=30:     #AHI>=30, class:3\n",
    "        y_stack[count]=3\n",
    "    elif y_stack[count]>=15:  #30>AHI>=15, class:2\n",
    "        y_stack[count]=2\n",
    "    elif y_stack[count]>=5:    #15>AHI>=5, class:1\n",
    "        y_stack[count]=1\n",
    "    else:\n",
    "        y_stack[count]=0       #5>AHI, class:0 "
   ]
  },
  {
   "cell_type": "code",
   "execution_count": null,
   "id": "b71a9014",
   "metadata": {},
   "outputs": [],
   "source": [
    "for count in range (0, 119):\n",
    "    if y_stack[count]>=5:\n",
    "        y_stack[count]=1\n",
    "    else:\n",
    "        y_stack[count]=0"
   ]
  },
  {
   "cell_type": "code",
   "execution_count": null,
   "id": "6f7a5d70",
   "metadata": {},
   "outputs": [],
   "source": []
  },
  {
   "cell_type": "code",
   "execution_count": null,
   "id": "83aab64f",
   "metadata": {},
   "outputs": [],
   "source": []
  },
  {
   "cell_type": "markdown",
   "id": "793ab201",
   "metadata": {},
   "source": [
    "## extract inputs from excel"
   ]
  },
  {
   "cell_type": "code",
   "execution_count": 6,
   "id": "d9e9cbc7",
   "metadata": {},
   "outputs": [],
   "source": [
    "#BMI\n",
    "x1 = pd.DataFrame(data, columns=['BMI'])\n",
    "x1_2D = x1.to_numpy()#convert into numpy array\n",
    "x_bmi = x1_2D.flatten()#flatten into 1d array\n",
    "#Age\n",
    "x2 = pd.DataFrame(data, columns=['Age'])\n",
    "x2_2D = x2.to_numpy()#convert into numpy array\n",
    "x_age = x2_2D.flatten()#flatten into 1d array\n",
    "#neck\n",
    "x3 = pd.DataFrame(data, columns=['neck'])\n",
    "x3_2D = x3.to_numpy()#convert into numpy array\n",
    "x_neck = x3_2D.flatten()#flatten into 1d array\n",
    "#desaturatino index\n",
    "x4 = pd.DataFrame(data, columns=['desaturation index'])\n",
    "x4_2D = x4.to_numpy()#convert into numpy array\n",
    "x_dsi = x4_2D.flatten()#flatten into 1d array\n",
    "#CVHR-OR_CEI\n",
    "x5 = pd.DataFrame(data, columns=['Aligned CVHR-OR-CEI'])\n",
    "x5_2D = x5.to_numpy()#convert into numpy array\n",
    "x_cvhrorcei = x5_2D.flatten()#flatten into 1d array\n",
    "#CVHRI\n",
    "x6 = pd.DataFrame(data, columns=['CVHRI'])\n",
    "x6_2D = x6.to_numpy()#convert into numpy array\n",
    "x_cvhri = x6_2D.flatten()#flatten into 1d array\n",
    "#CEI\n",
    "x7 = pd.DataFrame(data, columns=['CEI'])\n",
    "x7_2D = x7.to_numpy()#convert into numpy array\n",
    "x_cei = x7_2D.flatten()#flatten into 1d array"
   ]
  },
  {
   "cell_type": "markdown",
   "id": "60bae1e0",
   "metadata": {},
   "source": [
    "## decide your inputs"
   ]
  },
  {
   "cell_type": "code",
   "execution_count": 7,
   "id": "ab1d7f42",
   "metadata": {},
   "outputs": [],
   "source": [
    "X_stack = np.stack((x_cvhri, x_cei), axis=-1)"
   ]
  },
  {
   "cell_type": "code",
   "execution_count": 8,
   "id": "ecc4c08c",
   "metadata": {},
   "outputs": [],
   "source": [
    "from sklearn.preprocessing import MinMaxScaler\n",
    "scale = MinMaxScaler()\n",
    "X=scale.fit_transform(X_stack)"
   ]
  },
  {
   "cell_type": "code",
   "execution_count": 9,
   "id": "de015666",
   "metadata": {},
   "outputs": [
    {
     "data": {
      "text/plain": [
       "array([[0.13620072, 0.29340278],\n",
       "       [0.15770609, 0.078125  ],\n",
       "       [0.02867384, 0.15625   ],\n",
       "       [0.33930705, 0.71006944],\n",
       "       [0.09677419, 0.11284722],\n",
       "       [0.13739546, 0.32638889],\n",
       "       [0.04062127, 0.04166667],\n",
       "       [0.84348865, 0.54340278],\n",
       "       [0.36917563, 0.19965278],\n",
       "       [0.0525687 , 0.06770833],\n",
       "       [0.89247312, 0.37673611],\n",
       "       [0.13142174, 0.27256944],\n",
       "       [0.21863799, 0.23611111],\n",
       "       [0.09557945, 0.05208333],\n",
       "       [0.390681  , 0.30555556],\n",
       "       [1.        , 0.52777778],\n",
       "       [0.68339307, 0.30555556],\n",
       "       [0.22341697, 0.13541667],\n",
       "       [0.02031063, 0.        ],\n",
       "       [0.07168459, 0.078125  ],\n",
       "       [0.05973716, 0.08506944],\n",
       "       [0.91636798, 1.        ],\n",
       "       [0.19593787, 0.14583333],\n",
       "       [0.20191159, 0.10069444],\n",
       "       [0.34528076, 0.08333333],\n",
       "       [0.80645161, 0.69444444],\n",
       "       [0.19235364, 0.11631944],\n",
       "       [0.46475508, 0.20659722],\n",
       "       [0.02389486, 0.03645833],\n",
       "       [0.0167264 , 0.22395833],\n",
       "       [0.13500597, 0.24479167],\n",
       "       [0.31899642, 0.38368056],\n",
       "       [0.06332139, 0.13368056],\n",
       "       [0.08841099, 0.11805556],\n",
       "       [0.37873357, 0.10416667],\n",
       "       [0.10035842, 0.09722222],\n",
       "       [0.74193548, 0.55555556],\n",
       "       [0.01433692, 0.02777778],\n",
       "       [0.82676225, 0.38715278],\n",
       "       [0.05017921, 0.14756944],\n",
       "       [0.22222222, 0.16319444],\n",
       "       [0.52329749, 0.21875   ],\n",
       "       [0.14456392, 0.09548611],\n",
       "       [0.43130227, 0.35763889],\n",
       "       [0.10633214, 0.11458333],\n",
       "       [0.16726404, 0.10416667],\n",
       "       [0.15412186, 0.00868056],\n",
       "       [0.22222222, 0.06944444],\n",
       "       [0.03703704, 0.0625    ],\n",
       "       [0.57825568, 0.29166667],\n",
       "       [0.07048984, 0.06770833],\n",
       "       [0.15531661, 0.13368056],\n",
       "       [0.21027479, 0.03819444],\n",
       "       [0.06212664, 0.13541667],\n",
       "       [0.37275986, 0.16145833],\n",
       "       [0.03703704, 0.14236111],\n",
       "       [0.50896057, 0.14930556],\n",
       "       [0.08004779, 0.21701389],\n",
       "       [0.80286738, 0.28993056],\n",
       "       [0.20191159, 0.30729167],\n",
       "       [0.28554361, 0.27083333],\n",
       "       [0.15173238, 0.17361111],\n",
       "       [0.67144564, 0.44965278],\n",
       "       [0.20669056, 0.03819444],\n",
       "       [0.01433692, 0.00694444],\n",
       "       [0.42532855, 0.45138889],\n",
       "       [0.76224612, 0.46354167],\n",
       "       [0.43369176, 0.14930556],\n",
       "       [0.29390681, 0.17361111],\n",
       "       [0.60692951, 0.296875  ],\n",
       "       [0.20191159, 0.06423611],\n",
       "       [0.10633214, 0.046875  ],\n",
       "       [0.14934289, 0.05555556],\n",
       "       [0.01433692, 0.31770833],\n",
       "       [0.25328554, 0.09201389],\n",
       "       [0.29032258, 0.03645833],\n",
       "       [0.0167264 , 0.03993056],\n",
       "       [0.26164875, 0.07465278],\n",
       "       [0.24014337, 0.03993056],\n",
       "       [0.14934289, 0.05034722],\n",
       "       [0.06212664, 0.17708333],\n",
       "       [0.2437276 , 0.34895833],\n",
       "       [0.13381123, 0.09895833],\n",
       "       [0.04659498, 0.11458333],\n",
       "       [0.17084827, 0.08506944],\n",
       "       [0.27001195, 0.15277778],\n",
       "       [0.52449223, 0.58159722],\n",
       "       [0.23655914, 0.06770833],\n",
       "       [0.04062127, 0.03125   ],\n",
       "       [0.        , 0.21006944],\n",
       "       [0.30704898, 0.11979167],\n",
       "       [0.17921147, 0.171875  ],\n",
       "       [0.07407407, 0.04513889],\n",
       "       [0.09677419, 0.00347222],\n",
       "       [0.0692951 , 0.109375  ],\n",
       "       [0.03225806, 0.02951389],\n",
       "       [0.4432497 , 0.24131944],\n",
       "       [0.13500597, 0.07118056],\n",
       "       [0.02508961, 0.10069444],\n",
       "       [0.57108722, 0.36458333],\n",
       "       [0.01433692, 0.54166667],\n",
       "       [0.        , 0.10243056],\n",
       "       [0.04181601, 0.11631944],\n",
       "       [0.29868578, 0.390625  ],\n",
       "       [0.28554361, 0.81770833],\n",
       "       [0.44802867, 0.03645833],\n",
       "       [0.61529271, 0.88368056],\n",
       "       [0.71087216, 0.57118056],\n",
       "       [0.30227001, 0.80729167],\n",
       "       [0.57586619, 0.76215278],\n",
       "       [0.47670251, 0.19791667],\n",
       "       [0.11469534, 0.05208333],\n",
       "       [0.45519713, 0.40451389],\n",
       "       [0.06571087, 0.11805556],\n",
       "       [0.34647551, 0.25347222],\n",
       "       [0.89605735, 0.25694444],\n",
       "       [0.3823178 , 0.13368056],\n",
       "       [0.17323775, 0.28645833],\n",
       "       [0.16129032, 0.328125  ]])"
      ]
     },
     "execution_count": 9,
     "metadata": {},
     "output_type": "execute_result"
    }
   ],
   "source": [
    "X"
   ]
  },
  {
   "cell_type": "markdown",
   "id": "6cf9abfe",
   "metadata": {},
   "source": [
    "# Data preprocessing"
   ]
  },
  {
   "cell_type": "code",
   "execution_count": 10,
   "id": "cd4a6591",
   "metadata": {},
   "outputs": [],
   "source": [
    "# from sklearn.preprocessing import MinMaxScaler\n",
    "# scaler = MinMaxScaler()\n",
    "# X_transpose = scaler.fit_transform(X_stack.T)\n",
    "# X = X_transpose.T"
   ]
  },
  {
   "cell_type": "markdown",
   "id": "a0c742ac",
   "metadata": {},
   "source": [
    "## train test validation split"
   ]
  },
  {
   "cell_type": "code",
   "execution_count": 11,
   "id": "460911de",
   "metadata": {},
   "outputs": [],
   "source": [
    "from sklearn.model_selection import train_test_split \n",
    "X_trainval, X_test, y_trainval, y_test = train_test_split(X, y_stack, test_size=0.15, shuffle=False)\n",
    "X_train, X_val, y_train, y_val = train_test_split(X_trainval, y_trainval, test_size=0.4, shuffle=False)"
   ]
  },
  {
   "cell_type": "markdown",
   "id": "8c97596b",
   "metadata": {},
   "source": [
    "# Training SVC model"
   ]
  },
  {
   "cell_type": "markdown",
   "id": "3eb3d932",
   "metadata": {},
   "source": [
    "## decide hyperparameters"
   ]
  },
  {
   "cell_type": "code",
   "execution_count": 12,
   "id": "3f6c992a",
   "metadata": {},
   "outputs": [],
   "source": [
    "from sklearn.model_selection import GridSearchCV\n",
    "param_dist = {'C': [0.1, 1, 10, 100, 1000],\n",
    "              'gamma': [1, 0.1, 0.01, 0.001, 0.0001],\n",
    "              'kernel': ['linear', 'rbf', 'poly', 'sigmoid'],\n",
    "              'decision_function_shape':['ovo','ovr']}"
   ]
  },
  {
   "cell_type": "code",
   "execution_count": 13,
   "id": "da033563",
   "metadata": {},
   "outputs": [
    {
     "data": {
      "text/plain": [
       "GridSearchCV(cv=3, estimator=SVC(random_state=42), n_jobs=-1,\n",
       "             param_grid={'C': [0.1, 1, 10, 100, 1000],\n",
       "                         'decision_function_shape': ['ovo', 'ovr'],\n",
       "                         'gamma': [1, 0.1, 0.01, 0.001, 0.0001],\n",
       "                         'kernel': ['linear', 'rbf', 'poly', 'sigmoid']},\n",
       "             scoring='accuracy')"
      ]
     },
     "execution_count": 13,
     "metadata": {},
     "output_type": "execute_result"
    }
   ],
   "source": [
    "from sklearn import svm\n",
    "model = svm.SVC(random_state=42)\n",
    "grid =GridSearchCV(model, param_dist, cv=3, scoring='accuracy', n_jobs=-1)\n",
    "grid.fit(X_val, y_val)"
   ]
  },
  {
   "cell_type": "code",
   "execution_count": 14,
   "id": "4b87a85e",
   "metadata": {},
   "outputs": [
    {
     "data": {
      "text/plain": [
       "{'C': 10, 'decision_function_shape': 'ovo', 'gamma': 1, 'kernel': 'linear'}"
      ]
     },
     "execution_count": 14,
     "metadata": {},
     "output_type": "execute_result"
    }
   ],
   "source": [
    "grid.best_params_"
   ]
  },
  {
   "cell_type": "markdown",
   "id": "3004e947",
   "metadata": {},
   "source": [
    "## create a SVC model"
   ]
  },
  {
   "cell_type": "code",
   "execution_count": 15,
   "id": "48560f7d",
   "metadata": {},
   "outputs": [],
   "source": [
    "model = svm.SVC(kernel = grid.best_params_.get('kernel'), \n",
    "                C = grid.best_params_.get('C'), \n",
    "                gamma = grid.best_params_.get('gamma'), \n",
    "                decision_function_shape = grid.best_params_.get('decision_function_shape'),\n",
    "               probability=True)"
   ]
  },
  {
   "cell_type": "code",
   "execution_count": 16,
   "id": "55fa3352",
   "metadata": {},
   "outputs": [
    {
     "data": {
      "text/plain": [
       "SVC(C=10, decision_function_shape='ovo', gamma=1, kernel='linear',\n",
       "    probability=True)"
      ]
     },
     "execution_count": 16,
     "metadata": {},
     "output_type": "execute_result"
    }
   ],
   "source": [
    "model.fit(X_train, y_train)"
   ]
  },
  {
   "cell_type": "markdown",
   "id": "b4be0a31",
   "metadata": {},
   "source": [
    "# testing data evaluation"
   ]
  },
  {
   "cell_type": "code",
   "execution_count": 17,
   "id": "78f443b3",
   "metadata": {},
   "outputs": [
    {
     "name": "stdout",
     "output_type": "stream",
     "text": [
      "classification for classifier SVC(C=10, decision_function_shape='ovo', gamma=1, kernel='linear',\n",
      "    probability=True):\n",
      "              precision    recall  f1-score   support\n",
      "\n",
      "         0.0       1.00      0.57      0.73         7\n",
      "         1.0       0.79      1.00      0.88        11\n",
      "\n",
      "    accuracy                           0.83        18\n",
      "   macro avg       0.89      0.79      0.80        18\n",
      "weighted avg       0.87      0.83      0.82        18\n",
      "\n",
      "\n"
     ]
    }
   ],
   "source": [
    "from sklearn import metrics\n",
    "expected = y_test\n",
    "predicted = model.predict(X_test)\n",
    "\n",
    "print(\"classification for classifier %s:\\n%s\\n\"\n",
    "      % (model, metrics.classification_report(expected, predicted)))"
   ]
  },
  {
   "cell_type": "code",
   "execution_count": 18,
   "id": "8046d5cf",
   "metadata": {},
   "outputs": [
    {
     "name": "stdout",
     "output_type": "stream",
     "text": [
      "SVC 0.8333333333333334\n"
     ]
    }
   ],
   "source": [
    "from sklearn.metrics import accuracy_score\n",
    "y_pred = model.predict(X_test)\n",
    "print(model.__class__.__name__, accuracy_score(y_test, y_pred))"
   ]
  },
  {
   "cell_type": "markdown",
   "id": "c821dd23",
   "metadata": {},
   "source": [
    "## confusion matrix"
   ]
  },
  {
   "cell_type": "code",
   "execution_count": 19,
   "id": "5dd9bfe0",
   "metadata": {},
   "outputs": [
    {
     "name": "stdout",
     "output_type": "stream",
     "text": [
      "linear model:\n",
      " [[ 4  3]\n",
      " [ 0 11]]\n"
     ]
    }
   ],
   "source": [
    "from sklearn.metrics import confusion_matrix\n",
    "cm = confusion_matrix(y_test, y_pred)\n",
    "print(\"%s model:\\n\" %str(grid.best_params_.get('kernel')), cm)"
   ]
  },
  {
   "cell_type": "markdown",
   "id": "6d91e8b4",
   "metadata": {},
   "source": [
    "## AUC"
   ]
  },
  {
   "cell_type": "code",
   "execution_count": 20,
   "id": "56a8800f",
   "metadata": {},
   "outputs": [
    {
     "data": {
      "text/plain": [
       "0.948051948051948"
      ]
     },
     "execution_count": 20,
     "metadata": {},
     "output_type": "execute_result"
    }
   ],
   "source": [
    "from sklearn.metrics import roc_curve\n",
    "from sklearn.metrics import roc_auc_score\n",
    "y_score = model.predict_proba(X_test)[:, 1]\n",
    "fpr, tpr, thresholds = metrics.roc_curve(y_test, y_score, pos_label=1)\n",
    "area=roc_auc_score(y_test, y_score)\n",
    "metrics.auc(fpr, tpr)"
   ]
  },
  {
   "cell_type": "code",
   "execution_count": 21,
   "id": "dba8dfe6",
   "metadata": {},
   "outputs": [
    {
     "data": {
      "text/plain": [
       "<function matplotlib.pyplot.show(close=None, block=None)>"
      ]
     },
     "execution_count": 21,
     "metadata": {},
     "output_type": "execute_result"
    },
    {
     "data": {
      "image/png": "[encoded data removed]",
      "text/plain": [
       "<Figure size 432x288 with 1 Axes>"
      ]
     },
     "metadata": {
      "needs_background": "light"
     },
     "output_type": "display_data"
    }
   ],
   "source": [
    "plt.figure()\n",
    "plt.plot(fpr, tpr, color='red', label='ROC curve (area = %0.2f)' %area)\n",
    "plt.plot([0, 1], [0, 1], color='black', linestyle='--')\n",
    "plt.xlim([-0.05, 1.05])\n",
    "plt.ylim([-0.05, 1.05])\n",
    "plt.xlabel('False positive rate')\n",
    "plt.ylabel('True positive rate')\n",
    "plt.legend(loc='lower right')\n",
    "plt.show"
   ]
  },
  {
   "cell_type": "code",
   "execution_count": null,
   "id": "a89280e7",
   "metadata": {},
   "outputs": [],
   "source": []
  }
 ],
 "metadata": {
  "kernelspec": {
   "display_name": "Python 3",
   "language": "python",
   "name": "python3"
  },
  "language_info": {
   "codemirror_mode": {
    "name": "ipython",
    "version": 3
   },
   "file_extension": ".py",
   "mimetype": "text/x-python",
   "name": "python",
   "nbconvert_exporter": "python",
   "pygments_lexer": "ipython3",
   "version": "3.8.8"
  }
 },
 "nbformat": 4,
 "nbformat_minor": 5
}
