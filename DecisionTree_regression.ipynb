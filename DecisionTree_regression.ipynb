{
 "cells": [
  {
   "cell_type": "markdown",
   "id": "913a4262",
   "metadata": {},
   "source": [
    "# Setup"
   ]
  },
  {
   "cell_type": "code",
   "execution_count": 1,
   "id": "4010de40",
   "metadata": {},
   "outputs": [],
   "source": [
    "# Python ≥3.5 is required\n",
    "import sys\n",
    "assert sys.version_info >= (3, 5)\n",
    "\n",
    "# Scikit-Learn ≥0.20 is required\n",
    "import sklearn\n",
    "assert sklearn.__version__ >= \"0.20\"\n",
    "\n",
    "# Common imports\n",
    "import numpy as np\n",
    "import os\n",
    "\n",
    "# to make this notebook's output stable across runs\n",
    "np.random.seed(42)\n",
    "\n",
    "# To plot pretty figures\n",
    "%matplotlib inline\n",
    "import matplotlib as mpl\n",
    "import matplotlib.pyplot as plt\n",
    "mpl.rc('axes', labelsize=14)\n",
    "mpl.rc('xtick', labelsize=12)\n",
    "mpl.rc('ytick', labelsize=12)\n",
    "\n",
    "# Where to save the figures\n",
    "PROJECT_ROOT_DIR = \".\"\n",
    "CHAPTER_ID = \"decision_trees\"\n",
    "IMAGES_PATH = os.path.join(PROJECT_ROOT_DIR, \"images\", CHAPTER_ID)\n",
    "os.makedirs(IMAGES_PATH, exist_ok=True)\n",
    "\n",
    "def save_fig(fig_id, tight_layout=True, fig_extension=\"png\", resolution=300):\n",
    "    path = os.path.join(IMAGES_PATH, fig_id + \".\" + fig_extension)\n",
    "    print(\"Saving figure\", fig_id)\n",
    "    if tight_layout:\n",
    "        plt.tight_layout()\n",
    "    plt.savefig(path, format=fig_extension, dpi=resolution)"
   ]
  },
  {
   "cell_type": "markdown",
   "id": "0a3d663e",
   "metadata": {},
   "source": [
    "# Import Database"
   ]
  },
  {
   "cell_type": "markdown",
   "id": "6a63446e",
   "metadata": {},
   "source": [
    "## read data from excel"
   ]
  },
  {
   "cell_type": "code",
   "execution_count": 2,
   "id": "b2aeaeda",
   "metadata": {},
   "outputs": [
    {
     "name": "stdout",
     "output_type": "stream",
     "text": [
      "     Aligned CVHR-OR-CEI   BMI  Age  supine index  neck  desaturation index  \\\n",
      "0                   24.9  23.2   32          19.9  37.0                 0.2   \n",
      "1                   16.9  23.9   50           5.4  35.0                 5.8   \n",
      "2                   11.5  28.0   63           9.8  42.0                15.8   \n",
      "3                   53.7  30.4   43          41.7  40.0                56.1   \n",
      "4                   13.5  26.4   27           7.3  37.0                 6.7   \n",
      "..                   ...   ...  ...           ...   ...                 ...   \n",
      "114                 37.9  30.7   36           NaN  43.0                26.7   \n",
      "115                 76.8  39.4   44           NaN  44.0                79.9   \n",
      "116                 35.6  26.1   56           NaN  38.0                27.9   \n",
      "117                 28.7  27.2   47           NaN  39.0                65.0   \n",
      "118                 30.0  29.4   22           NaN  37.0                 1.7   \n",
      "\n",
      "     rescored AHI  CVHRI   CEI  \n",
      "0            15.2   11.4  17.7  \n",
      "1            12.0   13.2   5.3  \n",
      "2            27.8    2.4   9.8  \n",
      "3            71.2   28.4  41.7  \n",
      "4            34.3    8.1   7.3  \n",
      "..            ...    ...   ...  \n",
      "114          26.9   29.0  15.4  \n",
      "115          80.5   75.0  15.6  \n",
      "116          30.9   32.0   8.5  \n",
      "117          66.9   14.5  17.3  \n",
      "118           2.3   13.5  19.7  \n",
      "\n",
      "[119 rows x 9 columns]\n"
     ]
    }
   ],
   "source": [
    "import pandas as pd\n",
    "data = pd.read_excel(r'C:\\Users\\ASUS\\Desktop\\machine learning\\MLfinalReport\\AHIdata.xlsx')\n",
    "print(data)"
   ]
  },
  {
   "cell_type": "markdown",
   "id": "e90888d4",
   "metadata": {},
   "source": [
    "## extract y from excel"
   ]
  },
  {
   "cell_type": "code",
   "execution_count": 3,
   "id": "7e418d01",
   "metadata": {},
   "outputs": [
    {
     "name": "stdout",
     "output_type": "stream",
     "text": [
      "<class 'pandas.core.frame.DataFrame'>\n",
      "[[ 15.2]\n",
      " [ 12. ]\n",
      " [ 27.8]\n",
      " [ 71.2]\n",
      " [ 34.3]\n",
      " [ 86.9]\n",
      " [ 17.5]\n",
      " [ 78.3]\n",
      " [ 40.5]\n",
      " [ 21.2]\n",
      " [ 94.7]\n",
      " [ 40.2]\n",
      " [ 41.1]\n",
      " [ 11.5]\n",
      " [ 61.4]\n",
      " [108.8]\n",
      " [ 59.6]\n",
      " [ 24.1]\n",
      " [  9.5]\n",
      " [ 33.2]\n",
      " [ 11.9]\n",
      " [ 76.7]\n",
      " [ 29.7]\n",
      " [ 23.7]\n",
      " [ 38. ]\n",
      " [ 79.9]\n",
      " [ 13.8]\n",
      " [ 61.9]\n",
      " [  8.8]\n",
      " [  8.5]\n",
      " [ 37.1]\n",
      " [ 38.7]\n",
      " [ 33.9]\n",
      " [ 46.4]\n",
      " [ 34.5]\n",
      " [ 25.8]\n",
      " [ 82.3]\n",
      " [ 13.4]\n",
      " [ 85.4]\n",
      " [ 42.9]\n",
      " [ 24.3]\n",
      " [ 37.8]\n",
      " [ 16.9]\n",
      " [ 47.6]\n",
      " [ 50. ]\n",
      " [ 21.1]\n",
      " [  1.6]\n",
      " [  2.1]\n",
      " [ 12.3]\n",
      " [ 66.3]\n",
      " [ 27.9]\n",
      " [ 17. ]\n",
      " [  2. ]\n",
      " [ 11. ]\n",
      " [ 53. ]\n",
      " [ 20.8]\n",
      " [ 50.9]\n",
      " [ 15.6]\n",
      " [ 66.2]\n",
      " [ 56.1]\n",
      " [ 49.8]\n",
      " [ 10.2]\n",
      " [ 77.7]\n",
      " [  7.2]\n",
      " [  3. ]\n",
      " [ 47.3]\n",
      " [ 78.9]\n",
      " [ 15.6]\n",
      " [  9. ]\n",
      " [ 47.2]\n",
      " [ 12. ]\n",
      " [  7.6]\n",
      " [ 42.3]\n",
      " [ 26.3]\n",
      " [  7.5]\n",
      " [ 31.5]\n",
      " [  1.9]\n",
      " [ 15.8]\n",
      " [ 11.6]\n",
      " [  8.5]\n",
      " [ 20.5]\n",
      " [ 52.4]\n",
      " [ 20.2]\n",
      " [ 16.6]\n",
      " [ 19.8]\n",
      " [ 37.9]\n",
      " [ 60.2]\n",
      " [ 36.1]\n",
      " [ 24.5]\n",
      " [ 24.6]\n",
      " [ 22.4]\n",
      " [ 30. ]\n",
      " [ 16.9]\n",
      " [  7.7]\n",
      " [  8.8]\n",
      " [  7.1]\n",
      " [ 39.1]\n",
      " [  4.6]\n",
      " [  1.8]\n",
      " [ 97.3]\n",
      " [ 60.5]\n",
      " [  6.9]\n",
      " [ 28.3]\n",
      " [ 41. ]\n",
      " [ 75. ]\n",
      " [ 13.7]\n",
      " [ 89.2]\n",
      " [ 76.5]\n",
      " [ 85. ]\n",
      " [ 77. ]\n",
      " [ 51.2]\n",
      " [  3.3]\n",
      " [ 78.1]\n",
      " [  7.9]\n",
      " [ 26.9]\n",
      " [ 80.5]\n",
      " [ 30.9]\n",
      " [ 66.9]\n",
      " [  2.3]]\n"
     ]
    }
   ],
   "source": [
    "df = pd.DataFrame(data, columns=['rescored AHI'])\n",
    "print(type(df))#datatype is pd.dataframe not numpy array\n",
    "df_2D = df.to_numpy()#convert into numpy array\n",
    "print(df_2D)#now it is numpy 2d array"
   ]
  },
  {
   "cell_type": "code",
   "execution_count": 4,
   "id": "055cbd2f",
   "metadata": {},
   "outputs": [
    {
     "name": "stdout",
     "output_type": "stream",
     "text": [
      "[ 15.2  12.   27.8  71.2  34.3  86.9  17.5  78.3  40.5  21.2  94.7  40.2\n",
      "  41.1  11.5  61.4 108.8  59.6  24.1   9.5  33.2  11.9  76.7  29.7  23.7\n",
      "  38.   79.9  13.8  61.9   8.8   8.5  37.1  38.7  33.9  46.4  34.5  25.8\n",
      "  82.3  13.4  85.4  42.9  24.3  37.8  16.9  47.6  50.   21.1   1.6   2.1\n",
      "  12.3  66.3  27.9  17.    2.   11.   53.   20.8  50.9  15.6  66.2  56.1\n",
      "  49.8  10.2  77.7   7.2   3.   47.3  78.9  15.6   9.   47.2  12.    7.6\n",
      "  42.3  26.3   7.5  31.5   1.9  15.8  11.6   8.5  20.5  52.4  20.2  16.6\n",
      "  19.8  37.9  60.2  36.1  24.5  24.6  22.4  30.   16.9   7.7   8.8   7.1\n",
      "  39.1   4.6   1.8  97.3  60.5   6.9  28.3  41.   75.   13.7  89.2  76.5\n",
      "  85.   77.   51.2   3.3  78.1   7.9  26.9  80.5  30.9  66.9   2.3]\n"
     ]
    }
   ],
   "source": [
    "y = df_2D.flatten()#flatten into 1d array\n",
    "print(y)"
   ]
  },
  {
   "cell_type": "markdown",
   "id": "3c083839",
   "metadata": {},
   "source": [
    "## extract input from excel"
   ]
  },
  {
   "cell_type": "code",
   "execution_count": 5,
   "id": "fe1186c2",
   "metadata": {},
   "outputs": [],
   "source": [
    "#BMI\n",
    "x1 = pd.DataFrame(data, columns=['BMI'])\n",
    "x1_2D = x1.to_numpy()#convert into numpy array\n",
    "x_bmi = x1_2D.flatten()#flatten into 1d array\n",
    "#Age\n",
    "x2 = pd.DataFrame(data, columns=['Age'])\n",
    "x2_2D = x2.to_numpy()#convert into numpy array\n",
    "x_age = x2_2D.flatten()#flatten into 1d array\n",
    "#neck\n",
    "x3 = pd.DataFrame(data, columns=['neck'])\n",
    "x3_2D = x3.to_numpy()#convert into numpy array\n",
    "x_neck = x3_2D.flatten()#flatten into 1d array\n",
    "#desaturatino index\n",
    "x4 = pd.DataFrame(data, columns=['desaturation index'])\n",
    "x4_2D = x4.to_numpy()#convert into numpy array\n",
    "x_dsi = x4_2D.flatten()#flatten into 1d array\n",
    "#CVHR-OR_CEI\n",
    "x5 = pd.DataFrame(data, columns=['Aligned CVHR-OR-CEI'])\n",
    "x5_2D = x5.to_numpy()#convert into numpy array\n",
    "x_cvhrorcei = x5_2D.flatten()#flatten into 1d array\n",
    "#CVHRI\n",
    "x6 = pd.DataFrame(data, columns=['CVHRI'])\n",
    "x6_2D = x6.to_numpy()#convert into numpy array\n",
    "x_cvhri = x6_2D.flatten()#flatten into 1d array\n",
    "#CEI\n",
    "x7 = pd.DataFrame(data, columns=['CEI'])\n",
    "x7_2D = x7.to_numpy()#convert into numpy array\n",
    "x_cei = x7_2D.flatten()#flatten into 1d array"
   ]
  },
  {
   "cell_type": "markdown",
   "id": "a73a2f83",
   "metadata": {},
   "source": [
    "# training a decision tree model"
   ]
  },
  {
   "cell_type": "markdown",
   "id": "0bd43991",
   "metadata": {},
   "source": [
    "## decide your inputs"
   ]
  },
  {
   "cell_type": "code",
   "execution_count": 6,
   "id": "ff387401",
   "metadata": {},
   "outputs": [],
   "source": [
    "# X = x_cvhrorcei.reshape(-1, 1)\n",
    "X = np.stack((x_cvhrorcei, x_neck), axis=-1)"
   ]
  },
  {
   "cell_type": "markdown",
   "id": "80e3e67e",
   "metadata": {},
   "source": [
    "## train test split"
   ]
  },
  {
   "cell_type": "code",
   "execution_count": 7,
   "id": "f6f189da",
   "metadata": {},
   "outputs": [],
   "source": [
    "from sklearn.model_selection import train_test_split \n",
    "X_trainval, X_test, y_trainval, y_test = train_test_split(X, y, test_size=0.15, shuffle=False)\n",
    "X_train, X_val, y_train, y_val = train_test_split(X_trainval, y_trainval, test_size=0.4, shuffle=False)"
   ]
  },
  {
   "cell_type": "markdown",
   "id": "df317a1c",
   "metadata": {},
   "source": [
    "# create a decision tree regressor"
   ]
  },
  {
   "cell_type": "markdown",
   "id": "0bb3fe05",
   "metadata": {},
   "source": [
    "## decide max_depth"
   ]
  },
  {
   "cell_type": "code",
   "execution_count": 8,
   "id": "70ae231a",
   "metadata": {},
   "outputs": [],
   "source": [
    "from sklearn.model_selection import GridSearchCV\n",
    "param_dist = {'max_depth':range(1, 20, 1)}"
   ]
  },
  {
   "cell_type": "code",
   "execution_count": 9,
   "id": "10312abd",
   "metadata": {},
   "outputs": [
    {
     "data": {
      "text/plain": [
       "GridSearchCV(cv=3, estimator=DecisionTreeRegressor(random_state=42), n_jobs=-1,\n",
       "             param_grid={'max_depth': range(1, 20)},\n",
       "             scoring='neg_root_mean_squared_error')"
      ]
     },
     "execution_count": 9,
     "metadata": {},
     "output_type": "execute_result"
    }
   ],
   "source": [
    "from sklearn.tree import DecisionTreeRegressor\n",
    "tree_reg = DecisionTreeRegressor(random_state=42)\n",
    "grid = GridSearchCV(tree_reg, param_dist, cv=3, scoring='neg_root_mean_squared_error', n_jobs=-1)\n",
    "grid.fit(X_val, y_val)"
   ]
  },
  {
   "cell_type": "code",
   "execution_count": 10,
   "id": "5d54d39a",
   "metadata": {},
   "outputs": [
    {
     "data": {
      "text/plain": [
       "{'max_depth': 2}"
      ]
     },
     "execution_count": 10,
     "metadata": {},
     "output_type": "execute_result"
    }
   ],
   "source": [
    "grid.best_params_"
   ]
  },
  {
   "cell_type": "code",
   "execution_count": 11,
   "id": "a53d76ec",
   "metadata": {},
   "outputs": [
    {
     "data": {
      "text/plain": [
       "DecisionTreeRegressor(max_depth=2, random_state=42)"
      ]
     },
     "execution_count": 11,
     "metadata": {},
     "output_type": "execute_result"
    }
   ],
   "source": [
    "from sklearn.tree import DecisionTreeRegressor\n",
    "tree_reg = DecisionTreeRegressor(max_depth=grid.best_params_.get('max_depth'), random_state=42)\n",
    "tree_reg.fit(X_train, y_train)"
   ]
  },
  {
   "cell_type": "markdown",
   "id": "60d8b3ca",
   "metadata": {},
   "source": [
    "# Data visualization"
   ]
  },
  {
   "cell_type": "markdown",
   "id": "6a6f6f75",
   "metadata": {},
   "source": [
    "## export_text visualization"
   ]
  },
  {
   "cell_type": "code",
   "execution_count": 12,
   "id": "16d53f3e",
   "metadata": {},
   "outputs": [],
   "source": [
    "from sklearn import tree\n",
    "text_representation = tree.export_text(tree_reg, feature_names=(\"CVHRI\",\"CEI\"))\n",
    "print(text_representation)"
   ]
  },
  {
   "cell_type": "markdown",
   "id": "eaf1a2eb",
   "metadata": {},
   "source": [
    "## plot tree visualization"
   ]
  },
  {
   "cell_type": "code",
   "execution_count": 13,
   "id": "d5513651",
   "metadata": {},
   "outputs": [],
   "source": [
    "fig = plt.figure(figsize=(60, 20))\n",
    "_ = tree.plot_tree(tree_reg, feature_names = (\"CVHRI\",\"CEI\"), filled=True)"
   ]
  },
  {
   "cell_type": "markdown",
   "id": "ac4459da",
   "metadata": {},
   "source": [
    "# testing data evaluation"
   ]
  },
  {
   "cell_type": "markdown",
   "id": "5798fc98",
   "metadata": {},
   "source": [
    "reference: https://towardsdatascience.com/train-a-regression-model-using-a-decision-tree-70012c22bcc1"
   ]
  },
  {
   "cell_type": "code",
   "execution_count": 14,
   "id": "36c55da6",
   "metadata": {},
   "outputs": [],
   "source": [
    "from sklearn.metrics import mean_squared_error as mse #import library of mse\n",
    "\n",
    "max_depths = range(1, 20)\n",
    "#training error curve\n",
    "training_error = []\n",
    "for max_depth in max_depths:\n",
    "    model_1 = DecisionTreeRegressor(max_depth=max_depth)\n",
    "    model_1.fit(X_train, y_train)#use the same training set model\n",
    "    training_error.append(mse(y_train, model_1.predict(X_train)))#training error\n",
    "#testing error curve\n",
    "testing_error = []\n",
    "for max_depth in max_depths:\n",
    "    model_2 = DecisionTreeRegressor(max_depth=max_depth)\n",
    "    model_2.fit(X_train, y_train)#use the same training set model\n",
    "    testing_error.append(mse(y_test, model_2.predict(X_test)))#testing error\n",
    "#find the minimum mse on the testing error curve\n",
    "mini_mse = np.argmin(testing_error)\n",
    "optimized_max_depth = grid.best_params_.get('max_depth')\n",
    "#graph setting\n",
    "plt.plot(max_depths, training_error, color='blue', label='Training error')\n",
    "plt.plot(max_depths, testing_error, color='green', label='Testing error')\n",
    "plt.xlabel('Tree depth')\n",
    "plt.axvline(mini_mse+1, color='orange', linestyle='--')#becuse list counts from 0, we need to plus 1\n",
    "plt.annotate('optimum ='+(mini_mse+1).astype(str), xy=(mini_mse+1, min(testing_error)), color='red')\n",
    "plt.axvline(optimized_max_depth, color='green', linestyle='--')\n",
    "plt.annotate('max_depth ='+str(optimized_max_depth), xy=(optimized_max_depth, 0.9), color='green')\n",
    "plt.ylabel('Mean squared error')\n",
    "plt.title('Hyperparameter Tuning', pad=15, size=15)\n",
    "plt.legend()\n",
    "plt.savefig('error.png')"
   ]
  },
  {
   "cell_type": "markdown",
   "id": "59237d11",
   "metadata": {},
   "source": [
    "## MAE"
   ]
  },
  {
   "cell_type": "code",
   "execution_count": 15,
   "id": "8d4527e9",
   "metadata": {},
   "outputs": [
    {
     "name": "stdout",
     "output_type": "stream",
     "text": [
      "20.70952380952381\n"
     ]
    }
   ],
   "source": [
    "from sklearn.metrics import mean_absolute_error as mae\n",
    "y_test_expect = tree_reg.predict(X_test)\n",
    "print(mae(y_test, y_test_expect))"
   ]
  },
  {
   "cell_type": "markdown",
   "id": "40912b1a",
   "metadata": {},
   "source": [
    "## RMSE"
   ]
  },
  {
   "cell_type": "code",
   "execution_count": 16,
   "id": "00a65af7",
   "metadata": {},
   "outputs": [
    {
     "name": "stdout",
     "output_type": "stream",
     "text": [
      "24.066021983610963\n"
     ]
    }
   ],
   "source": [
    "from sklearn.metrics import mean_squared_error\n",
    "print(mean_squared_error(y_test, y_test_expect, squared=False))"
   ]
  },
  {
   "cell_type": "code",
   "execution_count": null,
   "id": "64e121f5",
   "metadata": {},
   "outputs": [],
   "source": []
  }
 ],
 "metadata": {
  "kernelspec": {
   "display_name": "Python 3",
   "language": "python",
   "name": "python3"
  },
  "language_info": {
   "codemirror_mode": {
    "name": "ipython",
    "version": 3
   },
   "file_extension": ".py",
   "mimetype": "text/x-python",
   "name": "python",
   "nbconvert_exporter": "python",
   "pygments_lexer": "ipython3",
   "version": "3.8.8"
  }
 },
 "nbformat": 4,
 "nbformat_minor": 5
}
