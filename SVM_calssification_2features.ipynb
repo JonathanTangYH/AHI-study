{
 "cells": [
  {
   "cell_type": "markdown",
   "id": "bf4dc474",
   "metadata": {},
   "source": [
    "# set up"
   ]
  },
  {
   "cell_type": "code",
   "execution_count": 1,
   "id": "0efe1fef",
   "metadata": {},
   "outputs": [],
   "source": [
    "# Python ≥3.5 is required\n",
    "import sys\n",
    "assert sys.version_info >= (3, 5)\n",
    "\n",
    "# Scikit-Learn ≥0.20 is required\n",
    "import sklearn\n",
    "assert sklearn.__version__ >= \"0.20\"\n",
    "\n",
    "# Common imports\n",
    "import numpy as np\n",
    "import os\n",
    "\n",
    "# to make this notebook's output stable across runs\n",
    "np.random.seed(42)\n",
    "\n",
    "# To plot pretty figures\n",
    "%matplotlib inline\n",
    "import matplotlib as mpl\n",
    "import matplotlib.pyplot as plt\n",
    "mpl.rc('axes', labelsize=14)\n",
    "mpl.rc('xtick', labelsize=12)\n",
    "mpl.rc('ytick', labelsize=12)\n",
    "\n",
    "# Where to save the figures\n",
    "PROJECT_ROOT_DIR = \".\"\n",
    "CHAPTER_ID = \"decision_trees\"\n",
    "IMAGES_PATH = os.path.join(PROJECT_ROOT_DIR, \"images\", CHAPTER_ID)\n",
    "os.makedirs(IMAGES_PATH, exist_ok=True)\n",
    "\n",
    "def save_fig(fig_id, tight_layout=True, fig_extension=\"png\", resolution=300):\n",
    "    path = os.path.join(IMAGES_PATH, fig_id + \".\" + fig_extension)\n",
    "    print(\"Saving figure\", fig_id)\n",
    "    if tight_layout:\n",
    "        plt.tight_layout()\n",
    "    plt.savefig(path, format=fig_extension, dpi=resolution)"
   ]
  },
  {
   "cell_type": "markdown",
   "id": "1c0aec7e",
   "metadata": {},
   "source": [
    "# import dataset"
   ]
  },
  {
   "cell_type": "markdown",
   "id": "13ee0ba7",
   "metadata": {},
   "source": [
    "## read data from excel"
   ]
  },
  {
   "cell_type": "code",
   "execution_count": 2,
   "id": "406c7aac",
   "metadata": {},
   "outputs": [],
   "source": [
    "import pandas as pd\n",
    "data = pd.read_excel(r'C:\\Users\\ASUS\\Desktop\\machine learning\\MLfinalReport\\AHIdata.xlsx')"
   ]
  },
  {
   "cell_type": "markdown",
   "id": "f91b1055",
   "metadata": {},
   "source": [
    "## extract y from excel"
   ]
  },
  {
   "cell_type": "code",
   "execution_count": 3,
   "id": "58e5a2e5",
   "metadata": {},
   "outputs": [
    {
     "name": "stdout",
     "output_type": "stream",
     "text": [
      "<class 'pandas.core.frame.DataFrame'>\n"
     ]
    }
   ],
   "source": [
    "df = pd.DataFrame(data, columns=['rescored AHI'])\n",
    "print(type(df))#datatype is pd.dataframe not numpy array\n",
    "df_2D = df.to_numpy()#convert into numpy array\n",
    "#print(df_2D)#now it is numpy 2d array"
   ]
  },
  {
   "cell_type": "code",
   "execution_count": 4,
   "id": "e435c701",
   "metadata": {
    "scrolled": true
   },
   "outputs": [
    {
     "name": "stdout",
     "output_type": "stream",
     "text": [
      "[ 15.2  12.   27.8  71.2  34.3  86.9  17.5  78.3  40.5  21.2  94.7  40.2\n",
      "  41.1  11.5  61.4 108.8  59.6  24.1   9.5  33.2  11.9  76.7  29.7  23.7\n",
      "  38.   79.9  13.8  61.9   8.8   8.5  37.1  38.7  33.9  46.4  34.5  25.8\n",
      "  82.3  13.4  85.4  42.9  24.3  37.8  16.9  47.6  50.   21.1   1.6   2.1\n",
      "  12.3  66.3  27.9  17.    2.   11.   53.   20.8  50.9  15.6  66.2  56.1\n",
      "  49.8  10.2  77.7   7.2   3.   47.3  78.9  15.6   9.   47.2  12.    7.6\n",
      "  42.3  26.3   7.5  31.5   1.9  15.8  11.6   8.5  20.5  52.4  20.2  16.6\n",
      "  19.8  37.9  60.2  36.1  24.5  24.6  22.4  30.   16.9   7.7   8.8   7.1\n",
      "  39.1   4.6   1.8  97.3  60.5   6.9  28.3  41.   75.   13.7  89.2  76.5\n",
      "  85.   77.   51.2   3.3  78.1   7.9  26.9  80.5  30.9  66.9   2.3]\n"
     ]
    }
   ],
   "source": [
    "y_stack = df_2D.flatten()#flatten into 1d array\n",
    "print(y_stack)"
   ]
  },
  {
   "cell_type": "markdown",
   "id": "b3775604",
   "metadata": {},
   "source": [
    "## encoding y_stack"
   ]
  },
  {
   "cell_type": "code",
   "execution_count": 5,
   "id": "339c69e7",
   "metadata": {},
   "outputs": [],
   "source": [
    "for count in range (0, 119):\n",
    "    if y_stack[count]>=30:#AHI>=30, class:3\n",
    "        y_stack[count]=3\n",
    "    elif y_stack[count]>=15:#30>AHI>=15, class:2\n",
    "        y_stack[count]=2\n",
    "    elif y_stack[count]>=5:#15>AHI>=5, class: 1\n",
    "        y_stack[count]=1\n",
    "    else:\n",
    "        y_stack[count]=0#5>AHI, class:0"
   ]
  },
  {
   "cell_type": "markdown",
   "id": "793ab201",
   "metadata": {},
   "source": [
    "## extract inputs from excel"
   ]
  },
  {
   "cell_type": "code",
   "execution_count": 6,
   "id": "d9e9cbc7",
   "metadata": {},
   "outputs": [],
   "source": [
    "#BMI\n",
    "x1 = pd.DataFrame(data, columns=['BMI'])\n",
    "x1_2D = x1.to_numpy()#convert into numpy array\n",
    "x_bmi = x1_2D.flatten()#flatten into 1d array\n",
    "#Age\n",
    "x2 = pd.DataFrame(data, columns=['Age'])\n",
    "x2_2D = x2.to_numpy()#convert into numpy array\n",
    "x_age = x2_2D.flatten()#flatten into 1d array\n",
    "#neck\n",
    "x3 = pd.DataFrame(data, columns=['neck'])\n",
    "x3_2D = x3.to_numpy()#convert into numpy array\n",
    "x_neck = x3_2D.flatten()#flatten into 1d array\n",
    "#desaturatino index\n",
    "x4 = pd.DataFrame(data, columns=['desaturation index'])\n",
    "x4_2D = x4.to_numpy()#convert into numpy array\n",
    "x_dsi = x4_2D.flatten()#flatten into 1d array\n",
    "#CVHR-OR_CEI\n",
    "x5 = pd.DataFrame(data, columns=['Aligned CVHR-OR-CEI'])\n",
    "x5_2D = x5.to_numpy()#convert into numpy array\n",
    "x_cvhrorcei = x5_2D.flatten()#flatten into 1d array\n",
    "#CVHRI\n",
    "x6 = pd.DataFrame(data, columns=['CVHRI'])\n",
    "x6_2D = x6.to_numpy()#convert into numpy array\n",
    "x_cvhri = x6_2D.flatten()#flatten into 1d array\n",
    "#CEI\n",
    "x7 = pd.DataFrame(data, columns=['CEI'])\n",
    "x7_2D = x7.to_numpy()#convert into numpy array\n",
    "x_cei = x7_2D.flatten()#flatten into 1d array"
   ]
  },
  {
   "cell_type": "markdown",
   "id": "60bae1e0",
   "metadata": {},
   "source": [
    "## decide your two inputs"
   ]
  },
  {
   "cell_type": "code",
   "execution_count": 7,
   "id": "aa312288",
   "metadata": {},
   "outputs": [],
   "source": [
    "X_stack = np.stack((x_bmi, x_cvhrorcei), axis=-1)"
   ]
  },
  {
   "cell_type": "markdown",
   "id": "6cf9abfe",
   "metadata": {},
   "source": [
    "# Data preprocessing"
   ]
  },
  {
   "cell_type": "code",
   "execution_count": 8,
   "id": "d2c11d56",
   "metadata": {},
   "outputs": [],
   "source": [
    "from sklearn.preprocessing import MinMaxScaler\n",
    "scale = MinMaxScaler()\n",
    "X=scale.fit_transform(X_stack)"
   ]
  },
  {
   "cell_type": "code",
   "execution_count": null,
   "id": "966b0ca8",
   "metadata": {},
   "outputs": [],
   "source": [
    "X"
   ]
  },
  {
   "cell_type": "markdown",
   "id": "a0c742ac",
   "metadata": {},
   "source": [
    "## train test validation split"
   ]
  },
  {
   "cell_type": "code",
   "execution_count": 9,
   "id": "460911de",
   "metadata": {},
   "outputs": [],
   "source": [
    "from sklearn.model_selection import train_test_split \n",
    "X_trainval, X_test, y_trainval, y_test = train_test_split(X, y_stack, test_size=0.15, shuffle=False)\n",
    "X_train, X_val, y_train, y_val = train_test_split(X_trainval, y_trainval, test_size=0.4, shuffle=False)"
   ]
  },
  {
   "cell_type": "markdown",
   "id": "8c97596b",
   "metadata": {},
   "source": [
    "# Training SVR model"
   ]
  },
  {
   "cell_type": "markdown",
   "id": "54c97e84",
   "metadata": {},
   "source": [
    "## decide hyperparameters"
   ]
  },
  {
   "cell_type": "code",
   "execution_count": 10,
   "id": "94cfcebf",
   "metadata": {},
   "outputs": [],
   "source": [
    "from sklearn.model_selection import GridSearchCV\n",
    "#linear model tuning\n",
    "param_dist_linear = {'C': [0.1, 1, 10, 100, 1000],\n",
    "                     'decision_function_shape':['ovo','ovr']}\n",
    "#rbf model tuning\n",
    "param_dist_rbf = {'C': [0.1, 1, 10, 100, 1000],\n",
    "                  'gamma': [1, 0.1, 0.01, 0.001, 0.0001],\n",
    "                  'decision_function_shape':['ovo','ovr']}\n",
    "#poly model tuning\n",
    "param_dist_poly = {'C': [0.1, 1, 10, 100, 1000],\n",
    "                   'degree': range(1, 10),\n",
    "                   'gamma': [1, 0.1, 0.01, 0.001, 0.0001],\n",
    "                   'decision_function_shape':['ovo','ovr']}\n",
    "#sigmoid model tuning\n",
    "param_dist_sig = {'C': [0.1, 1, 10, 100, 1000],\n",
    "                  'gamma': [1, 0.1, 0.01, 0.001, 0.0001],\n",
    "                  'decision_function_shape':['ovo','ovr']}"
   ]
  },
  {
   "cell_type": "code",
   "execution_count": 11,
   "id": "50af80f5",
   "metadata": {},
   "outputs": [],
   "source": [
    "from sklearn import svm\n",
    "linear = svm.SVC(kernel='linear', random_state=42)\n",
    "rbf = svm.SVC(kernel='rbf', random_state=42)\n",
    "poly = svm.SVC(kernel='poly', random_state=42)\n",
    "sig = svm.SVC(kernel='sigmoid', random_state=42)"
   ]
  },
  {
   "cell_type": "code",
   "execution_count": 12,
   "id": "9514772c",
   "metadata": {},
   "outputs": [
    {
     "data": {
      "text/plain": [
       "GridSearchCV(cv=3, estimator=SVC(kernel='sigmoid', random_state=42), n_jobs=-1,\n",
       "             param_grid={'C': [0.1, 1, 10, 100, 1000],\n",
       "                         'decision_function_shape': ['ovo', 'ovr'],\n",
       "                         'gamma': [1, 0.1, 0.01, 0.001, 0.0001]},\n",
       "             scoring='accuracy')"
      ]
     },
     "execution_count": 12,
     "metadata": {},
     "output_type": "execute_result"
    }
   ],
   "source": [
    "grid_linear = GridSearchCV(linear, param_dist_linear, cv=3, scoring='accuracy', n_jobs=-1)\n",
    "grid_linear.fit(X_val, y_val)\n",
    "grid_rbf    = GridSearchCV(rbf, param_dist_rbf, cv=3, scoring='accuracy', n_jobs=-1)\n",
    "grid_rbf.fit(X_val, y_val)\n",
    "grid_poly   = GridSearchCV(poly, param_dist_poly, cv=3, scoring='accuracy', n_jobs=-1)\n",
    "grid_poly.fit(X_val, y_val)\n",
    "grid_sig    = GridSearchCV(sig, param_dist_sig, cv=3, scoring='accuracy', n_jobs=-1)\n",
    "grid_sig.fit(X_val, y_val)"
   ]
  },
  {
   "cell_type": "code",
   "execution_count": 13,
   "id": "7cb31ac7",
   "metadata": {},
   "outputs": [
    {
     "data": {
      "text/plain": [
       "{'C': 1, 'decision_function_shape': 'ovo'}"
      ]
     },
     "execution_count": 13,
     "metadata": {},
     "output_type": "execute_result"
    }
   ],
   "source": [
    "grid_linear.best_params_"
   ]
  },
  {
   "cell_type": "code",
   "execution_count": 14,
   "id": "b726c270",
   "metadata": {},
   "outputs": [
    {
     "data": {
      "text/plain": [
       "{'C': 1, 'decision_function_shape': 'ovo', 'gamma': 1}"
      ]
     },
     "execution_count": 14,
     "metadata": {},
     "output_type": "execute_result"
    }
   ],
   "source": [
    "grid_rbf.best_params_"
   ]
  },
  {
   "cell_type": "code",
   "execution_count": 15,
   "id": "19e4170c",
   "metadata": {},
   "outputs": [
    {
     "data": {
      "text/plain": [
       "{'C': 1, 'decision_function_shape': 'ovo', 'degree': 1, 'gamma': 1}"
      ]
     },
     "execution_count": 15,
     "metadata": {},
     "output_type": "execute_result"
    }
   ],
   "source": [
    "grid_poly.best_params_"
   ]
  },
  {
   "cell_type": "code",
   "execution_count": 16,
   "id": "d8b774b8",
   "metadata": {},
   "outputs": [
    {
     "data": {
      "text/plain": [
       "{'C': 1, 'decision_function_shape': 'ovo', 'gamma': 1}"
      ]
     },
     "execution_count": 16,
     "metadata": {},
     "output_type": "execute_result"
    }
   ],
   "source": [
    "grid_sig.best_params_"
   ]
  },
  {
   "cell_type": "markdown",
   "id": "3004e947",
   "metadata": {},
   "source": [
    "## create a SVR model"
   ]
  },
  {
   "cell_type": "markdown",
   "id": "d9d44745",
   "metadata": {},
   "source": [
    "from website: https://towardsdatascience.com/multiclass-classification-with-support-vector-machines-svm-kernel-trick-kernel-functions-f9d5377d6f02"
   ]
  },
  {
   "cell_type": "code",
   "execution_count": 17,
   "id": "f40e7b0a",
   "metadata": {},
   "outputs": [],
   "source": [
    "from sklearn import svm\n",
    "#training optimized linear model\n",
    "linear = svm.SVC(kernel='linear',\n",
    "                 random_state=42,\n",
    "                 C=grid_linear.best_params_.get('C'), \n",
    "                 decision_function_shape=grid_linear.best_params_.get('decision_function_shape')).fit(X_train, y_train)\n",
    "#training optimized rbf model\n",
    "rbf = svm.SVC(kernel='rbf', \n",
    "              random_state=42,\n",
    "              gamma=grid_rbf.best_params_.get('gamma'), \n",
    "              C=grid_rbf.best_params_.get('C'), \n",
    "              decision_function_shape=grid_rbf.best_params_.get('decision_function_shape')).fit(X_train, y_train)\n",
    "#training optimized poly model\n",
    "poly = svm.SVC(kernel='poly',\n",
    "               random_state=42,\n",
    "               degree=grid_poly.best_params_.get('degree'), \n",
    "               C=grid_poly.best_params_.get('C'), \n",
    "               decision_function_shape=grid_poly.best_params_.get('decision_function_shape')).fit(X_train, y_train)\n",
    "#training optimized sigmoid model\n",
    "sig = svm.SVC(kernel='sigmoid',\n",
    "              random_state=42,\n",
    "              C=grid_sig.best_params_.get('C'), \n",
    "              decision_function_shape=grid_sig.best_params_.get('decision_function_shape')).fit(X_train, y_train)"
   ]
  },
  {
   "cell_type": "code",
   "execution_count": 18,
   "id": "1dd8fcda",
   "metadata": {},
   "outputs": [],
   "source": [
    "#stepsize in the mesh, it alters the accuracy of the plotprint\n",
    "#to better understand it, just play with the value, change it and print it\n",
    "h = .01\n",
    "#create the mesh\n",
    "x_min, x_max = X_stack[:, 0].min() - 1, X_stack[:, 0].max() + 1\n",
    "y_min, y_max = X_stack[:, 1].min() - 1, X_stack[:, 1].max() + 1\n",
    "xx, yy = np.meshgrid(np.arange(x_min, x_max, h),np.arange(y_min, y_max, h))\n",
    "# create the title that will be shown on the plot\n",
    "titles = ['Linear kernel','RBF kernel','Polynomial kernel','Sigmoid kernel']"
   ]
  },
  {
   "cell_type": "code",
   "execution_count": 19,
   "id": "7ec4c2fd",
   "metadata": {},
   "outputs": [
    {
     "data": {
      "image/png": "[encoded data removed]",
      "text/plain": [
       "<Figure size 432x288 with 1 Axes>"
      ]
     },
     "metadata": {},
     "output_type": "display_data"
    },
    {
     "data": {
      "image/png": "[encoded data removed]",
      "text/plain": [
       "<Figure size 432x288 with 1 Axes>"
      ]
     },
     "metadata": {},
     "output_type": "display_data"
    },
    {
     "data": {
      "image/png": "[encoded data removed]",
      "text/plain": [
       "<Figure size 432x288 with 1 Axes>"
      ]
     },
     "metadata": {},
     "output_type": "display_data"
    },
    {
     "data": {
      "image/png": "[encoded data removed]",
      "text/plain": [
       "<Figure size 432x288 with 1 Axes>"
      ]
     },
     "metadata": {},
     "output_type": "display_data"
    }
   ],
   "source": [
    "import matplotlib.pyplot as plt\n",
    "for i, clf in enumerate((linear, rbf, poly, sig)):\n",
    "    #defines how many plots: 2 rows, 2columns=> leading to 4 plots\n",
    "    plt.subplot(2, 2, i + 1) #i+1 is the index\n",
    "    #space between plots\n",
    "    plt.subplots_adjust(wspace=0.4, hspace=0.4) \n",
    "    Z = clf.predict(np.c_[xx.ravel(), yy.ravel()])\n",
    "    # Put the result into a color plot\n",
    "    Z = Z.reshape(xx.shape)\n",
    "    plt.contourf(xx, yy, Z, cmap=plt.cm.PuBuGn, alpha=0.7)\n",
    "    # Plot also the training points\n",
    "    plt.scatter(X_stack[:, 0], X_stack[:, 1], c=y_stack, cmap=plt.cm.PuBuGn, edgecolors='grey')\n",
    "    plt.xlabel('BMI')\n",
    "    plt.ylabel('CVHORCEI')\n",
    "    plt.xlim(xx.min(), xx.max())\n",
    "    plt.ylim(yy.min(), yy.max())\n",
    "    plt.xticks(())\n",
    "    plt.yticks(())\n",
    "    plt.title(titles[i])\n",
    "    plt.show()"
   ]
  },
  {
   "cell_type": "code",
   "execution_count": 20,
   "id": "e60ce479",
   "metadata": {},
   "outputs": [],
   "source": [
    "linear_pred = linear.predict(X_test)\n",
    "poly_pred = poly.predict(X_test)\n",
    "rbf_pred = rbf.predict(X_test)\n",
    "sig_pred = sig.predict(X_test)"
   ]
  },
  {
   "cell_type": "code",
   "execution_count": 21,
   "id": "795e47ec",
   "metadata": {},
   "outputs": [
    {
     "name": "stdout",
     "output_type": "stream",
     "text": [
      "Accuracy Linear Kernel: 0.8333333333333334\n",
      "Accuracy Polynomial Kernel: 0.8333333333333334\n",
      "Accuracy Radial Basis Kernel: 0.8333333333333334\n",
      "Accuracy Sigmoid Kernel: 0.8333333333333334\n"
     ]
    }
   ],
   "source": [
    "# retrieve the accuracy and print it for all 4 kernel functions\n",
    "accuracy_lin = linear.score(X_test, y_test)\n",
    "accuracy_poly = poly.score(X_test, y_test)\n",
    "accuracy_rbf = rbf.score(X_test, y_test)\n",
    "accuracy_sig = sig.score(X_test, y_test)\n",
    "print(\"Accuracy Linear Kernel:\", accuracy_lin)\n",
    "print(\"Accuracy Polynomial Kernel:\", accuracy_poly)\n",
    "print(\"Accuracy Radial Basis Kernel:\", accuracy_rbf)\n",
    "print(\"Accuracy Sigmoid Kernel:\", accuracy_sig)"
   ]
  },
  {
   "cell_type": "code",
   "execution_count": 22,
   "id": "e147daf9",
   "metadata": {},
   "outputs": [
    {
     "name": "stdout",
     "output_type": "stream",
     "text": [
      "linear model\n",
      " [[ 4  3]\n",
      " [ 0 11]]\n",
      "polynominal model\n",
      " [[ 4  3]\n",
      " [ 0 11]]\n",
      "RBF_model\n",
      " [[ 4  3]\n",
      " [ 0 11]]\n",
      "sigmoid\n",
      " [[ 4  3]\n",
      " [ 0 11]]\n"
     ]
    }
   ],
   "source": [
    "# creating a confusion matrix\n",
    "from sklearn.metrics import confusion_matrix\n",
    "cm_lin = confusion_matrix(y_test, linear_pred)\n",
    "cm_poly = confusion_matrix(y_test, poly_pred)\n",
    "cm_rbf = confusion_matrix(y_test, rbf_pred)\n",
    "cm_sig = confusion_matrix(y_test, sig_pred)\n",
    "print(\"linear model\\n\", cm_lin)\n",
    "print(\"polynominal model\\n\", cm_poly)\n",
    "print(\"RBF_model\\n\", cm_rbf)\n",
    "print(\"sigmoid\\n\", cm_sig)"
   ]
  },
  {
   "cell_type": "code",
   "execution_count": null,
   "id": "b9530b28",
   "metadata": {},
   "outputs": [],
   "source": []
  },
  {
   "cell_type": "markdown",
   "id": "f168176d",
   "metadata": {},
   "source": [
    "# Data visualization"
   ]
  },
  {
   "cell_type": "code",
   "execution_count": 23,
   "id": "a90b2136",
   "metadata": {},
   "outputs": [
    {
     "ename": "NameError",
     "evalue": "name 'svm_reg1' is not defined",
     "output_type": "error",
     "traceback": [
      "\u001b[1;31m---------------------------------------------------------------------------\u001b[0m",
      "\u001b[1;31mNameError\u001b[0m                                 Traceback (most recent call last)",
      "\u001b[1;32m<ipython-input-23-ce69858c12f3>\u001b[0m in \u001b[0;36m<module>\u001b[1;34m\u001b[0m\n\u001b[0;32m     13\u001b[0m \u001b[0mfig\u001b[0m\u001b[1;33m,\u001b[0m \u001b[0maxes\u001b[0m \u001b[1;33m=\u001b[0m \u001b[0mplt\u001b[0m\u001b[1;33m.\u001b[0m\u001b[0msubplots\u001b[0m\u001b[1;33m(\u001b[0m\u001b[0mncols\u001b[0m\u001b[1;33m=\u001b[0m\u001b[1;36m2\u001b[0m\u001b[1;33m,\u001b[0m \u001b[0mfigsize\u001b[0m\u001b[1;33m=\u001b[0m\u001b[1;33m(\u001b[0m\u001b[1;36m9\u001b[0m\u001b[1;33m,\u001b[0m \u001b[1;36m4\u001b[0m\u001b[1;33m)\u001b[0m\u001b[1;33m,\u001b[0m \u001b[0msharey\u001b[0m\u001b[1;33m=\u001b[0m\u001b[1;32mTrue\u001b[0m\u001b[1;33m)\u001b[0m\u001b[1;33m\u001b[0m\u001b[1;33m\u001b[0m\u001b[0m\n\u001b[0;32m     14\u001b[0m \u001b[0mplt\u001b[0m\u001b[1;33m.\u001b[0m\u001b[0msca\u001b[0m\u001b[1;33m(\u001b[0m\u001b[0maxes\u001b[0m\u001b[1;33m[\u001b[0m\u001b[1;36m0\u001b[0m\u001b[1;33m]\u001b[0m\u001b[1;33m)\u001b[0m\u001b[1;33m\u001b[0m\u001b[1;33m\u001b[0m\u001b[0m\n\u001b[1;32m---> 15\u001b[1;33m \u001b[0mplot_svm_regression\u001b[0m\u001b[1;33m(\u001b[0m\u001b[0msvm_reg1\u001b[0m\u001b[1;33m,\u001b[0m \u001b[0mX\u001b[0m\u001b[1;33m,\u001b[0m \u001b[0my\u001b[0m\u001b[1;33m,\u001b[0m \u001b[1;33m[\u001b[0m\u001b[1;36m0\u001b[0m\u001b[1;33m,\u001b[0m \u001b[1;36m2\u001b[0m\u001b[1;33m,\u001b[0m \u001b[1;36m3\u001b[0m\u001b[1;33m,\u001b[0m \u001b[1;36m11\u001b[0m\u001b[1;33m]\u001b[0m\u001b[1;33m)\u001b[0m\u001b[1;33m\u001b[0m\u001b[1;33m\u001b[0m\u001b[0m\n\u001b[0m\u001b[0;32m     16\u001b[0m \u001b[0mplt\u001b[0m\u001b[1;33m.\u001b[0m\u001b[0mtitle\u001b[0m\u001b[1;33m(\u001b[0m\u001b[1;34mr\"$\\epsilon = {}$\"\u001b[0m\u001b[1;33m.\u001b[0m\u001b[0mformat\u001b[0m\u001b[1;33m(\u001b[0m\u001b[0msvm_reg1\u001b[0m\u001b[1;33m.\u001b[0m\u001b[0mepsilon\u001b[0m\u001b[1;33m)\u001b[0m\u001b[1;33m,\u001b[0m \u001b[0mfontsize\u001b[0m\u001b[1;33m=\u001b[0m\u001b[1;36m18\u001b[0m\u001b[1;33m)\u001b[0m\u001b[1;33m\u001b[0m\u001b[1;33m\u001b[0m\u001b[0m\n\u001b[0;32m     17\u001b[0m \u001b[0mplt\u001b[0m\u001b[1;33m.\u001b[0m\u001b[0mylabel\u001b[0m\u001b[1;33m(\u001b[0m\u001b[1;34mr\"$y$\"\u001b[0m\u001b[1;33m,\u001b[0m \u001b[0mfontsize\u001b[0m\u001b[1;33m=\u001b[0m\u001b[1;36m18\u001b[0m\u001b[1;33m,\u001b[0m \u001b[0mrotation\u001b[0m\u001b[1;33m=\u001b[0m\u001b[1;36m0\u001b[0m\u001b[1;33m)\u001b[0m\u001b[1;33m\u001b[0m\u001b[1;33m\u001b[0m\u001b[0m\n",
      "\u001b[1;31mNameError\u001b[0m: name 'svm_reg1' is not defined"
     ]
    },
    {
     "data": {
      "image/png": "[encoded data removed]",
      "text/plain": [
       "<Figure size 648x288 with 2 Axes>"
      ]
     },
     "metadata": {
      "needs_background": "light"
     },
     "output_type": "display_data"
    }
   ],
   "source": [
    "def plot_svm_regression(svm_reg, X, y, axes):\n",
    "    x1s = np.linspace(axes[0], axes[1], 100).reshape(100, 1)\n",
    "    y_pred = svm_reg.predict(x1s)\n",
    "    plt.plot(x1s, y_pred, \"k-\", linewidth=2, label=r\"$\\hat{y}$\")\n",
    "    plt.plot(x1s, y_pred + svm_reg.epsilon, \"k--\")\n",
    "    plt.plot(x1s, y_pred - svm_reg.epsilon, \"k--\")\n",
    "    plt.scatter(X[svm_reg.support_], y[svm_reg.support_], s=180, facecolors='#FFAAAA')\n",
    "    plt.plot(X, y, \"bo\")\n",
    "    plt.xlabel(r\"$x_1$\", fontsize=18)\n",
    "    plt.legend(loc=\"upper left\", fontsize=18)\n",
    "    plt.axis(axes)\n",
    "\n",
    "fig, axes = plt.subplots(ncols=2, figsize=(9, 4), sharey=True)\n",
    "plt.sca(axes[0])\n",
    "plot_svm_regression(svm_reg1, X, y, [0, 2, 3, 11])\n",
    "plt.title(r\"$\\epsilon = {}$\".format(svm_reg1.epsilon), fontsize=18)\n",
    "plt.ylabel(r\"$y$\", fontsize=18, rotation=0)\n",
    "#plt.plot([eps_x1, eps_x1], [eps_y_pred, eps_y_pred - svm_reg1.epsilon], \"k-\", linewidth=2)\n",
    "plt.annotate(\n",
    "        '', xy=(eps_x1, eps_y_pred), xycoords='data',\n",
    "        xytext=(eps_x1, eps_y_pred - svm_reg1.epsilon),\n",
    "        textcoords='data', arrowprops={'arrowstyle': '<->', 'linewidth': 1.5}\n",
    "    )\n",
    "plt.text(0.91, 5.6, r\"$\\epsilon$\", fontsize=20)\n",
    "plt.sca(axes[1])\n",
    "plot_svm_regression(svm_reg2, X, y, [0, 2, 3, 11])\n",
    "plt.title(r\"$\\epsilon = {}$\".format(svm_reg2.epsilon), fontsize=18)\n",
    "save_fig(\"svm_regression_plot\")\n",
    "plt.show()"
   ]
  },
  {
   "cell_type": "code",
   "execution_count": null,
   "id": "30cd887a",
   "metadata": {},
   "outputs": [],
   "source": []
  }
 ],
 "metadata": {
  "kernelspec": {
   "display_name": "Python 3",
   "language": "python",
   "name": "python3"
  },
  "language_info": {
   "codemirror_mode": {
    "name": "ipython",
    "version": 3
   },
   "file_extension": ".py",
   "mimetype": "text/x-python",
   "name": "python",
   "nbconvert_exporter": "python",
   "pygments_lexer": "ipython3",
   "version": "3.8.8"
  }
 },
 "nbformat": 4,
 "nbformat_minor": 5
}
