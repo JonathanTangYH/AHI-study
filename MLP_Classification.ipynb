{
 "cells": [
  {
   "cell_type": "markdown",
   "id": "bf4dc474",
   "metadata": {},
   "source": [
    "# set up"
   ]
  },
  {
   "cell_type": "code",
   "execution_count": 1,
   "id": "0efe1fef",
   "metadata": {},
   "outputs": [],
   "source": [
    "# Python ≥3.5 is required\n",
    "import sys\n",
    "assert sys.version_info >= (3, 5)\n",
    "\n",
    "# Scikit-Learn ≥0.20 is required\n",
    "import sklearn\n",
    "assert sklearn.__version__ >= \"0.20\"\n",
    "\n",
    "# Common imports\n",
    "import numpy as np\n",
    "import os\n",
    "\n",
    "# to make this notebook's output stable across runs\n",
    "np.random.seed(42)\n",
    "\n",
    "# To plot pretty figures\n",
    "%matplotlib inline\n",
    "import matplotlib as mpl\n",
    "import matplotlib.pyplot as plt\n",
    "mpl.rc('axes', labelsize=14)\n",
    "mpl.rc('xtick', labelsize=12)\n",
    "mpl.rc('ytick', labelsize=12)\n",
    "\n",
    "# Where to save the figures\n",
    "PROJECT_ROOT_DIR = \".\"\n",
    "CHAPTER_ID = \"decision_trees\"\n",
    "IMAGES_PATH = os.path.join(PROJECT_ROOT_DIR, \"images\", CHAPTER_ID)\n",
    "os.makedirs(IMAGES_PATH, exist_ok=True)\n",
    "\n",
    "def save_fig(fig_id, tight_layout=True, fig_extension=\"png\", resolution=300):\n",
    "    path = os.path.join(IMAGES_PATH, fig_id + \".\" + fig_extension)\n",
    "    print(\"Saving figure\", fig_id)\n",
    "    if tight_layout:\n",
    "        plt.tight_layout()\n",
    "    plt.savefig(path, format=fig_extension, dpi=resolution)"
   ]
  },
  {
   "cell_type": "markdown",
   "id": "1c0aec7e",
   "metadata": {},
   "source": [
    "# import dataset"
   ]
  },
  {
   "cell_type": "markdown",
   "id": "13ee0ba7",
   "metadata": {},
   "source": [
    "## read data from excel"
   ]
  },
  {
   "cell_type": "code",
   "execution_count": 2,
   "id": "406c7aac",
   "metadata": {},
   "outputs": [],
   "source": [
    "import pandas as pd\n",
    "data = pd.read_excel(r'C:\\Users\\ASUS\\Desktop\\machine learning\\MLfinalReport\\AHIdata.xlsx')"
   ]
  },
  {
   "cell_type": "markdown",
   "id": "f91b1055",
   "metadata": {},
   "source": [
    "## extract y from excel"
   ]
  },
  {
   "cell_type": "code",
   "execution_count": 3,
   "id": "58e5a2e5",
   "metadata": {},
   "outputs": [
    {
     "name": "stdout",
     "output_type": "stream",
     "text": [
      "<class 'pandas.core.frame.DataFrame'>\n"
     ]
    }
   ],
   "source": [
    "df = pd.DataFrame(data, columns=['rescored AHI'])\n",
    "print(type(df))#datatype is pd.dataframe not numpy array\n",
    "df_2D = df.to_numpy()#convert into numpy array\n",
    "#print(df_2D)#now it is numpy 2d array"
   ]
  },
  {
   "cell_type": "code",
   "execution_count": 4,
   "id": "e435c701",
   "metadata": {
    "scrolled": false
   },
   "outputs": [
    {
     "name": "stdout",
     "output_type": "stream",
     "text": [
      "[ 15.2  12.   27.8  71.2  34.3  86.9  17.5  78.3  40.5  21.2  94.7  40.2\n",
      "  41.1  11.5  61.4 108.8  59.6  24.1   9.5  33.2  11.9  76.7  29.7  23.7\n",
      "  38.   79.9  13.8  61.9   8.8   8.5  37.1  38.7  33.9  46.4  34.5  25.8\n",
      "  82.3  13.4  85.4  42.9  24.3  37.8  16.9  47.6  50.   21.1   1.6   2.1\n",
      "  12.3  66.3  27.9  17.    2.   11.   53.   20.8  50.9  15.6  66.2  56.1\n",
      "  49.8  10.2  77.7   7.2   3.   47.3  78.9  15.6   9.   47.2  12.    7.6\n",
      "  42.3  26.3   7.5  31.5   1.9  15.8  11.6   8.5  20.5  52.4  20.2  16.6\n",
      "  19.8  37.9  60.2  36.1  24.5  24.6  22.4  30.   16.9   7.7   8.8   7.1\n",
      "  39.1   4.6   1.8  97.3  60.5   6.9  28.3  41.   75.   13.7  89.2  76.5\n",
      "  85.   77.   51.2   3.3  78.1   7.9  26.9  80.5  30.9  66.9   2.3]\n"
     ]
    }
   ],
   "source": [
    "y_stack = df_2D.flatten()#flatten into 1d array\n",
    "print(y_stack)"
   ]
  },
  {
   "cell_type": "markdown",
   "id": "37494b1d",
   "metadata": {},
   "source": [
    "## encoding y_stack"
   ]
  },
  {
   "cell_type": "code",
   "execution_count": 5,
   "id": "bcaddf2e",
   "metadata": {},
   "outputs": [],
   "source": [
    "for count in range (0, 119):\n",
    "    if y_stack[count]>=30:#AHI>=30, class:3\n",
    "        y_stack[count]=3\n",
    "    elif y_stack[count]>=15:#30>AHI>=15, class:2\n",
    "        y_stack[count]=2\n",
    "    elif y_stack[count]>=5:#15>AHI>=5, class: 1\n",
    "        y_stack[count]=1\n",
    "    else:\n",
    "        y_stack[count]=0#5>AHI, class:0"
   ]
  },
  {
   "cell_type": "markdown",
   "id": "793ab201",
   "metadata": {},
   "source": [
    "## extract inputs from excel"
   ]
  },
  {
   "cell_type": "code",
   "execution_count": 6,
   "id": "d9e9cbc7",
   "metadata": {},
   "outputs": [],
   "source": [
    "#BMI\n",
    "x1 = pd.DataFrame(data, columns=['BMI'])\n",
    "x1_2D = x1.to_numpy()#convert into numpy array\n",
    "x_bmi = x1_2D.flatten()#flatten into 1d array\n",
    "#Age\n",
    "x2 = pd.DataFrame(data, columns=['Age'])\n",
    "x2_2D = x2.to_numpy()#convert into numpy array\n",
    "x_age = x2_2D.flatten()#flatten into 1d array\n",
    "#neck\n",
    "x3 = pd.DataFrame(data, columns=['neck'])\n",
    "x3_2D = x3.to_numpy()#convert into numpy array\n",
    "x_neck = x3_2D.flatten()#flatten into 1d array\n",
    "#desaturatino index\n",
    "x4 = pd.DataFrame(data, columns=['desaturation index'])\n",
    "x4_2D = x4.to_numpy()#convert into numpy array\n",
    "x_dsi = x4_2D.flatten()#flatten into 1d array\n",
    "#CVHR-OR_CEI\n",
    "x5 = pd.DataFrame(data, columns=['Aligned CVHR-OR-CEI'])\n",
    "x5_2D = x5.to_numpy()#convert into numpy array\n",
    "x_cvhrorcei = x5_2D.flatten()#flatten into 1d array\n",
    "#CVHRI\n",
    "x6 = pd.DataFrame(data, columns=['CVHRI'])\n",
    "x6_2D = x6.to_numpy()#convert into numpy array\n",
    "x_cvhri = x6_2D.flatten()#flatten into 1d array\n",
    "#CEI\n",
    "x7 = pd.DataFrame(data, columns=['CEI'])\n",
    "x7_2D = x7.to_numpy()#convert into numpy array\n",
    "x_cei = x7_2D.flatten()#flatten into 1d array"
   ]
  },
  {
   "cell_type": "markdown",
   "id": "6cf9abfe",
   "metadata": {},
   "source": [
    "# Data preprocessing"
   ]
  },
  {
   "cell_type": "markdown",
   "id": "60bae1e0",
   "metadata": {},
   "source": [
    "## decide your inputs"
   ]
  },
  {
   "cell_type": "code",
   "execution_count": 7,
   "id": "aa312288",
   "metadata": {},
   "outputs": [],
   "source": [
    "X_stack = np.stack((x_bmi, x_age, x_neck, x_dsi, x_cvhrorcei, ), axis=-1)"
   ]
  },
  {
   "cell_type": "code",
   "execution_count": 8,
   "id": "47348192",
   "metadata": {},
   "outputs": [
    {
     "name": "stdout",
     "output_type": "stream",
     "text": [
      "[[23.2 32.  37.   0.2 24.9]\n",
      " [23.9 50.  35.   5.8 16.9]\n",
      " [28.  63.  42.  15.8 11.5]\n",
      " [30.4 43.  40.  56.1 53.7]\n",
      " [26.4 27.  37.   6.7 13.5]\n",
      " [39.  29.  43.  60.  25.2]\n",
      " [23.6 57.  32.  10.9  6.4]\n",
      " [30.7 45.  42.5 81.2 75.4]\n",
      " [27.1 46.  41.  26.1 33.7]\n",
      " [25.7 32.  36.5  3.7  8.2]\n",
      " [33.2 38.  42.  92.3 79.4]\n",
      " [24.4 49.  37.5 23.9 23.1]\n",
      " [23.  49.  35.  12.5 27.4]\n",
      " [23.3 35.  39.   0.2 11. ]\n",
      " [28.4 62.  42.  58.3 41.3]\n",
      " [33.6 27.  40.  95.7 88.5]\n",
      " [38.2 51.  46.  56.9 59. ]\n",
      " [27.8 21.  36.   1.8 22.8]\n",
      " [22.9 40.  38.   0.4  2.4]\n",
      " [34.  42.  39.  22.1 10.6]\n",
      " [30.4 48.  40.   3.5 10. ]\n",
      " [33.6 37.  45.  69.8 86.7]\n",
      " [20.2 44.  35.   1.6 22. ]\n",
      " [27.2 29.  42.  10.7 20.6]\n",
      " [38.1 39.  41.  27.3 31.3]\n",
      " [29.4 37.  39.  68.  75.7]\n",
      " [29.  66.  39.   4.9 20.6]\n",
      " [27.7 56.  34.  22.2 42.7]\n",
      " [24.7 34.  36.   0.3  4.2]\n",
      " [21.8 27.  35.   0.  14.7]\n",
      " [22.9 31.  38.  26.  22.5]\n",
      " [25.6 44.  39.  22.3 39.3]\n",
      " [28.1 38.  40.  15.  13. ]\n",
      " [36.4 65.  42.  16.3 14.5]\n",
      " [22.8 67.  35.   7.4 34.3]\n",
      " [26.3 41.  33.   4.1 13.7]\n",
      " [28.3 57.  40.  68.1 70.9]\n",
      " [25.4 29.  37.5 10.   2.9]\n",
      " [37.2 40.  47.  82.7 71.4]\n",
      " [24.8 33.  36.  18.3 13. ]\n",
      " [22.8 46.  46.   7.7 25.4]\n",
      " [26.6 34.  38.  22.2 47.2]\n",
      " [23.9 47.  37.   7.6 16.8]\n",
      " [26.7 53.  39.5 42.  40.7]\n",
      " [26.9 41.  40.  41.3 14.7]\n",
      " [26.8 56.  42.   6.3 18.5]\n",
      " [22.5 46.  33.   0.6 14.3]\n",
      " [22.7 28.  38.5  0.5 22. ]\n",
      " [23.6 45.  34.   3.1  7.2]\n",
      " [24.2 40.  38.  68.5 54.9]\n",
      " [30.1 48.  36.   9.6 10.1]\n",
      " [23.7 27.  34.   2.1 20. ]\n",
      " [22.5 60.  34.   0.7 20.4]\n",
      " [22.9 40.  34.   2.3 12.5]\n",
      " [16.  26.  28.  30.8 38.2]\n",
      " [26.  52.  34.  12.3 11.3]\n",
      " [26.  50.  36.  35.  44.5]\n",
      " [25.1 21.  38.   1.2 17.6]\n",
      " [33.6 27.  40.  63.1 69.1]\n",
      " [28.4 56.  40.  45.8 26.1]\n",
      " [29.1 30.  37.  46.5 34.3]\n",
      " [26.  43.  32.   1.6 19.8]\n",
      " [27.7 25.  41.  77.1 66.8]\n",
      " [17.3 48.  39.   2.4 19.7]\n",
      " [27.5 25.  39.   0.2  2.3]\n",
      " [29.4 45.  42.  37.1 43.1]\n",
      " [33.7 42.  46.  78.4 69. ]\n",
      " [20.8 60.  38.   6.5 40.3]\n",
      " [22.2 46.  38.   2.1 28.3]\n",
      " [26.8 52.  39.  43.  54.9]\n",
      " [24.8 49.  38.   2.7 19.8]\n",
      " [18.5 39.  34.   0.5 11.2]\n",
      " [27.8 46.  39.5 27.1 16.2]\n",
      " [23.4 44.  36.   8.2 20.3]\n",
      " [26.4 43.  36.   0.8 24.5]\n",
      " [26.  50.  39.  22.5 25.5]\n",
      " [22.1 34.  36.5  0.1  3.8]\n",
      " [23.8 42.  33.   3.4 25.1]\n",
      " [24.4 38.  33.   1.8 21.9]\n",
      " [26.3 42.  41.   1.8 14.6]\n",
      " [22.5 53.  40.   2.1 14.8]\n",
      " [25.  21.  38.  38.3 33.9]\n",
      " [24.9 51.  40.   6.2 14.3]\n",
      " [22.6 42.  37.   0.9 10.8]\n",
      " [24.8 49.  33.   3.9 18.6]\n",
      " [33.5 49.  42.  11.1 28.5]\n",
      " [26.7 34.  42.  60.5 57.1]\n",
      " [34.3 27.  46.  24.  21.4]\n",
      " [35.  54.  40.  12.6  5.7]\n",
      " [24.6 55.  41.   2.3 12.9]\n",
      " [26.1 30.  38.   5.  29.2]\n",
      " [23.8 53.  39.  16.4 22.1]\n",
      " [22.6 41.  37.   7.   9.5]\n",
      " [29.9 34.  36.   2.4  9. ]\n",
      " [25.8 26.  42.   0.3 12.4]\n",
      " [26.  26.  39.   0.2  5. ]\n",
      " [28.7 41.  40.  32.6 42. ]\n",
      " [25.2 47.  39.   4.3 14.2]\n",
      " [25.5 38.  37.   1.6  8.7]\n",
      " [35.9 35.  42.  92.7 54.5]\n",
      " [27.1 68.  43.  56.1 32.5]\n",
      " [21.6 60.  37.   6.9  6.7]\n",
      " [22.9 56.  39.  26.5 11. ]\n",
      " [28.4 51.  41.  39.2 39.1]\n",
      " [24.3 51.  37.  75.  56.7]\n",
      " [36.6 37.  35.  13.7 38.1]\n",
      " [31.1 42.  42.  86.5 74.3]\n",
      " [38.8 36.  45.  74.  68.6]\n",
      " [27.4 68.  42.  77.6 56.2]\n",
      " [31.8 32.  39.  75.1 68.8]\n",
      " [31.6 66.  43.  47.7 43.7]\n",
      " [28.7 64.  42.   3.1 12.3]\n",
      " [29.4 39.  40.  76.3 49.6]\n",
      " [24.6 32.  40.   7.7 12.5]\n",
      " [30.7 36.  43.  26.7 37.9]\n",
      " [39.4 44.  44.  79.9 76.8]\n",
      " [26.1 56.  38.  27.9 35.6]\n",
      " [27.2 47.  39.  65.  28.7]\n",
      " [29.4 22.  37.   1.7 30. ]]\n"
     ]
    }
   ],
   "source": [
    "print(X_stack)"
   ]
  },
  {
   "cell_type": "markdown",
   "id": "a0c742ac",
   "metadata": {},
   "source": [
    "## train test split"
   ]
  },
  {
   "cell_type": "code",
   "execution_count": 9,
   "id": "460911de",
   "metadata": {},
   "outputs": [],
   "source": [
    "from sklearn.model_selection import train_test_split \n",
    "X_train, X_test, y_train, y_test = train_test_split(X_stack, y_stack, test_size=0.2, shuffle=False)"
   ]
  },
  {
   "cell_type": "markdown",
   "id": "8c97596b",
   "metadata": {},
   "source": [
    "# Training MLP model"
   ]
  },
  {
   "cell_type": "markdown",
   "id": "3004e947",
   "metadata": {},
   "source": [
    "## create a MLP model"
   ]
  },
  {
   "cell_type": "code",
   "execution_count": 10,
   "id": "c57b17ae",
   "metadata": {},
   "outputs": [],
   "source": [
    "from keras.utils import np_utils\n",
    "from keras.models import Sequential\n",
    "from keras.layers import Dense\n",
    "import pandas as pd\n",
    "import tensorflow as tf\n",
    "import numpy as np\n",
    "import matplotlib.pyplot as plt\n",
    "np.random.seed(3)"
   ]
  },
  {
   "cell_type": "code",
   "execution_count": 11,
   "id": "0889f36b",
   "metadata": {},
   "outputs": [],
   "source": [
    "# model=tf.keras.models.Sequential()\n",
    "# model.add(tf.keras.layers.Dense(units=len(X_stack.T), activation=tf.nn.relu, input_dim=5, kernel_initializer='normal'))\n",
    "# model.add(tf.keras.layers.Dense(units=3, activation=tf.nn.softmax, kernel_initializer='normal'))\n",
    "# model.add(tf.keras.layers.Dense(units=3, activation=tf.nn.softmax, kernel_initializer='normal'))\n",
    "# model.add(tf.keras.layers.Dense(units=3, activation=tf.nn.softmax, kernel_initializer='normal'))\n",
    "# model.add(tf.keras.layers.Dense(units=1, activation=tf.nn.softmax, kernel_initializer='normal'))\n",
    "# model.compile(optimizer='adam', loss='categorical_crossentropy', metrics=['accuracy'])\n",
    "# model.summary()"
   ]
  },
  {
   "cell_type": "code",
   "execution_count": 20,
   "id": "edaaecce",
   "metadata": {},
   "outputs": [
    {
     "name": "stdout",
     "output_type": "stream",
     "text": [
      "Epoch 1/20\n",
      "10/10 [==============================] - 0s 1ms/step - loss: 0.0000e+00 - accuracy: 0.2105\n",
      "Epoch 2/20\n",
      "10/10 [==============================] - 0s 1ms/step - loss: 0.0000e+00 - accuracy: 0.2105\n",
      "Epoch 3/20\n",
      "10/10 [==============================] - 0s 1ms/step - loss: 0.0000e+00 - accuracy: 0.2105\n",
      "Epoch 4/20\n",
      "10/10 [==============================] - 0s 1ms/step - loss: 0.0000e+00 - accuracy: 0.2105\n",
      "Epoch 5/20\n",
      "10/10 [==============================] - 0s 1ms/step - loss: 0.0000e+00 - accuracy: 0.2105\n",
      "Epoch 6/20\n",
      "10/10 [==============================] - 0s 1ms/step - loss: 0.0000e+00 - accuracy: 0.2105\n",
      "Epoch 7/20\n",
      "10/10 [==============================] - 0s 1ms/step - loss: 0.0000e+00 - accuracy: 0.2105\n",
      "Epoch 8/20\n",
      "10/10 [==============================] - 0s 1ms/step - loss: 0.0000e+00 - accuracy: 0.2105\n",
      "Epoch 9/20\n",
      "10/10 [==============================] - 0s 1ms/step - loss: 0.0000e+00 - accuracy: 0.2105\n",
      "Epoch 10/20\n",
      "10/10 [==============================] - 0s 1ms/step - loss: 0.0000e+00 - accuracy: 0.2105\n",
      "Epoch 11/20\n",
      "10/10 [==============================] - 0s 1ms/step - loss: 0.0000e+00 - accuracy: 0.2105\n",
      "Epoch 12/20\n",
      "10/10 [==============================] - 0s 1ms/step - loss: 0.0000e+00 - accuracy: 0.2105\n",
      "Epoch 13/20\n",
      "10/10 [==============================] - 0s 1ms/step - loss: 0.0000e+00 - accuracy: 0.2105\n",
      "Epoch 14/20\n",
      "10/10 [==============================] - 0s 1ms/step - loss: 0.0000e+00 - accuracy: 0.2105\n",
      "Epoch 15/20\n",
      "10/10 [==============================] - 0s 1ms/step - loss: 0.0000e+00 - accuracy: 0.2105\n",
      "Epoch 16/20\n",
      "10/10 [==============================] - 0s 1ms/step - loss: 0.0000e+00 - accuracy: 0.2105\n",
      "Epoch 17/20\n",
      "10/10 [==============================] - 0s 1ms/step - loss: 0.0000e+00 - accuracy: 0.2105\n",
      "Epoch 18/20\n",
      "10/10 [==============================] - 0s 1ms/step - loss: 0.0000e+00 - accuracy: 0.2105\n",
      "Epoch 19/20\n",
      "10/10 [==============================] - 0s 1ms/step - loss: 0.0000e+00 - accuracy: 0.2105\n",
      "Epoch 20/20\n",
      "10/10 [==============================] - 0s 1ms/step - loss: 0.0000e+00 - accuracy: 0.2105\n"
     ]
    }
   ],
   "source": [
    "model=tf.keras.models.Sequential()\n",
    "model.add(tf.keras.layers.Dense(units=len(X_stack.T),\n",
    "                               activation=tf.nn.relu,\n",
    "                               input_dim=5))\n",
    "model.add(tf.keras.layers.Dense(units=3,\n",
    "                               activation=tf.nn.relu))\n",
    "model.add(tf.keras.layers.Dense(units=1,\n",
    "                               activation=tf.nn.softmax))\n",
    "\n",
    "# model.compile(optimizer='adam',\n",
    "#              loss=tf.keras.losses.categorical_crossentropy,\n",
    "#              metrics=['accuracy'])\n",
    "learning_rate=0.01\n",
    "opt1=tf.keras.optimizers.RMSprop(lr=learning_rate)\n",
    "model.compile(\n",
    "    optimizer=opt1,\n",
    "    loss=tf.keras.losses.categorical_crossentropy,\n",
    "    metrics=['accuracy'])\n",
    "history=model.fit(X_train, y_train,\n",
    "         epochs=20,\n",
    "         batch_size=10)"
   ]
  },
  {
   "cell_type": "code",
   "execution_count": null,
   "id": "e52e8109",
   "metadata": {},
   "outputs": [],
   "source": [
    "train_history=model.fit(x=X_train, y=y_train, validation_split=0.15,batch_size=10, epochs=20, verbose=2)"
   ]
  },
  {
   "cell_type": "markdown",
   "id": "4f9f68bc",
   "metadata": {},
   "source": [
    "# testing data evaluation"
   ]
  },
  {
   "cell_type": "code",
   "execution_count": null,
   "id": "a2276847",
   "metadata": {},
   "outputs": [],
   "source": [
    "score=model.evaluate(X_test, y_test, batch_size=12)\n",
    "print(\"score=\", score)"
   ]
  },
  {
   "cell_type": "code",
   "execution_count": null,
   "id": "656431ed",
   "metadata": {},
   "outputs": [],
   "source": [
    "from sklearn.metrics import accuracy_score, confusion_matrix, classification_report\n",
    "y_pred = model.predict(y_test)\n",
    "confusion_matrix(y_test, y_pred)"
   ]
  },
  {
   "cell_type": "code",
   "execution_count": null,
   "id": "f7c9bafe",
   "metadata": {},
   "outputs": [],
   "source": [
    "import seaborn as sns\n",
    "# Get and reshape confusion matrix data\n",
    "matrix = confusion_matrix(y_test, y_pred)\n",
    "matrix = matrix.astype('float') / matrix.sum(axis=1)[:, np.newaxis]\n",
    "\n",
    "# Build the plot\n",
    "plt.figure(figsize=(16,7))\n",
    "sns.set(font_scale=1.4)\n",
    "sns.heatmap(matrix, annot=True, annot_kws={'size':10},\n",
    "            cmap=plt.cm.Greens, linewidths=0.2)\n",
    "\n",
    "# Add labels to the plot\n",
    "class_names = ['No apnea', 'low AHI', 'medium AHI', 'high AHI']\n",
    "tick_marks = np.arange(len(class_names))\n",
    "tick_marks2 = tick_marks + 0.5\n",
    "plt.xticks(tick_marks, class_names, rotation=0)\n",
    "plt.yticks(tick_marks2, class_names, rotation=0)\n",
    "plt.xlabel('Predicted label')\n",
    "plt.ylabel('True label')\n",
    "plt.title('Confusion Matrix for Random Forest Model')\n",
    "plt.show()"
   ]
  },
  {
   "cell_type": "markdown",
   "id": "9e8b05c7",
   "metadata": {},
   "source": [
    "## plot accuracy and loss curve"
   ]
  },
  {
   "cell_type": "code",
   "execution_count": null,
   "id": "00394a58",
   "metadata": {},
   "outputs": [],
   "source": [
    "import matplotlib.pyplot as plt\n",
    "plt.plot(history.history['accuracy'])\n",
    "plt.plot(history.history['loss'])\n",
    "plt.title('model accuracy')\n",
    "plt.ylabel('acc&loss')\n",
    "plt.xlabel('epoch')\n",
    "plt.legend(['acc','loss'],loc='upper right')\n",
    "plt.show()"
   ]
  },
  {
   "cell_type": "markdown",
   "id": "960713f0",
   "metadata": {},
   "source": [
    "## plot training and testing history"
   ]
  },
  {
   "cell_type": "code",
   "execution_count": null,
   "id": "a00315a8",
   "metadata": {},
   "outputs": [],
   "source": [
    "def show_train_history(train_history, train, validation):\n",
    "    plt.plot(train_history.history[train])\n",
    "    plt.plot(train_history.history[validation])\n",
    "    plt.title('Train History')\n",
    "    plt.ylabel(train)\n",
    "    plt.xlabel('epoch')\n",
    "    plt.legend(['train','validation'], loc='upper left')\n",
    "    plt.show()"
   ]
  },
  {
   "cell_type": "code",
   "execution_count": null,
   "id": "387c5dd7",
   "metadata": {},
   "outputs": [],
   "source": [
    "show_train_history(train_history, 'accuracy', 'val_accuracy')"
   ]
  },
  {
   "cell_type": "code",
   "execution_count": null,
   "id": "3628d188",
   "metadata": {},
   "outputs": [],
   "source": [
    "show_train_history(train_history, 'loss', 'val_loss')"
   ]
  }
 ],
 "metadata": {
  "kernelspec": {
   "display_name": "Python 3",
   "language": "python",
   "name": "python3"
  },
  "language_info": {
   "codemirror_mode": {
    "name": "ipython",
    "version": 3
   },
   "file_extension": ".py",
   "mimetype": "text/x-python",
   "name": "python",
   "nbconvert_exporter": "python",
   "pygments_lexer": "ipython3",
   "version": "3.8.8"
  }
 },
 "nbformat": 4,
 "nbformat_minor": 5
}
