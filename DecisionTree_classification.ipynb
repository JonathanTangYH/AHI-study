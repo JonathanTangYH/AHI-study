{
 "cells": [
  {
   "cell_type": "markdown",
   "id": "913a4262",
   "metadata": {},
   "source": [
    "# Setup"
   ]
  },
  {
   "cell_type": "code",
   "execution_count": 1,
   "id": "4010de40",
   "metadata": {},
   "outputs": [],
   "source": [
    "# Python ≥3.5 is required\n",
    "import sys\n",
    "assert sys.version_info >= (3, 5)\n",
    "\n",
    "# Scikit-Learn ≥0.20 is required\n",
    "import sklearn\n",
    "assert sklearn.__version__ >= \"0.20\"\n",
    "\n",
    "# Common imports\n",
    "import numpy as np\n",
    "import os\n",
    "\n",
    "# to make this notebook's output stable across runs\n",
    "np.random.seed(42)\n",
    "\n",
    "# To plot pretty figures\n",
    "%matplotlib inline\n",
    "import matplotlib as mpl\n",
    "import matplotlib.pyplot as plt\n",
    "mpl.rc('axes', labelsize=14)\n",
    "mpl.rc('xtick', labelsize=12)\n",
    "mpl.rc('ytick', labelsize=12)\n",
    "\n",
    "# Where to save the figures\n",
    "PROJECT_ROOT_DIR = \".\"\n",
    "CHAPTER_ID = \"decision_trees\"\n",
    "IMAGES_PATH = os.path.join(PROJECT_ROOT_DIR, \"images\", CHAPTER_ID)\n",
    "os.makedirs(IMAGES_PATH, exist_ok=True)\n",
    "\n",
    "def save_fig(fig_id, tight_layout=True, fig_extension=\"png\", resolution=300):\n",
    "    path = os.path.join(IMAGES_PATH, fig_id + \".\" + fig_extension)\n",
    "    print(\"Saving figure\", fig_id)\n",
    "    if tight_layout:\n",
    "        plt.tight_layout()\n",
    "    plt.savefig(path, format=fig_extension, dpi=resolution)"
   ]
  },
  {
   "cell_type": "markdown",
   "id": "0a3d663e",
   "metadata": {},
   "source": [
    "# Import Database"
   ]
  },
  {
   "cell_type": "markdown",
   "id": "6a63446e",
   "metadata": {},
   "source": [
    "## read data from excel"
   ]
  },
  {
   "cell_type": "code",
   "execution_count": 2,
   "id": "b2aeaeda",
   "metadata": {},
   "outputs": [
    {
     "name": "stdout",
     "output_type": "stream",
     "text": [
      "     Aligned CVHR-OR-CEI   BMI  Age  supine index  neck  desaturation index  \\\n",
      "0                   24.9  23.2   32          19.9  37.0                 0.2   \n",
      "1                   16.9  23.9   50           5.4  35.0                 5.8   \n",
      "2                   11.5  28.0   63           9.8  42.0                15.8   \n",
      "3                   53.7  30.4   43          41.7  40.0                56.1   \n",
      "4                   13.5  26.4   27           7.3  37.0                 6.7   \n",
      "..                   ...   ...  ...           ...   ...                 ...   \n",
      "114                 37.9  30.7   36           NaN  43.0                26.7   \n",
      "115                 76.8  39.4   44           NaN  44.0                79.9   \n",
      "116                 35.6  26.1   56           NaN  38.0                27.9   \n",
      "117                 28.7  27.2   47           NaN  39.0                65.0   \n",
      "118                 30.0  29.4   22           NaN  37.0                 1.7   \n",
      "\n",
      "     rescored AHI  CVHRI   CEI  Unnamed: 9 Unnamed: 10  data correlation  \n",
      "0            15.2   11.4  17.7         NaN   CVHRORCEI          0.845757  \n",
      "1            12.0   13.2   5.3         NaN         BMI          0.561416  \n",
      "2            27.8    2.4   9.8         NaN         Age          0.017723  \n",
      "3            71.2   28.4  41.7         NaN        neck          0.476625  \n",
      "4            34.3    8.1   7.3         NaN       CVHRI          0.760055  \n",
      "..            ...    ...   ...         ...         ...               ...  \n",
      "114          26.9   29.0  15.4         NaN         NaN               NaN  \n",
      "115          80.5   75.0  15.6         NaN         NaN               NaN  \n",
      "116          30.9   32.0   8.5         NaN         NaN               NaN  \n",
      "117          66.9   14.5  17.3         NaN         NaN               NaN  \n",
      "118           2.3   13.5  19.7         NaN         NaN               NaN  \n",
      "\n",
      "[119 rows x 12 columns]\n"
     ]
    }
   ],
   "source": [
    "import pandas as pd\n",
    "data = pd.read_excel(r'C:\\Users\\ASUS\\Desktop\\machine learning\\MLfinalReport\\AHIdata.xlsx')\n",
    "print(data)"
   ]
  },
  {
   "cell_type": "markdown",
   "id": "e90888d4",
   "metadata": {},
   "source": [
    "## extract y from excel"
   ]
  },
  {
   "cell_type": "code",
   "execution_count": 3,
   "id": "7e418d01",
   "metadata": {},
   "outputs": [
    {
     "name": "stdout",
     "output_type": "stream",
     "text": [
      "<class 'pandas.core.frame.DataFrame'>\n"
     ]
    }
   ],
   "source": [
    "df = pd.DataFrame(data, columns=['rescored AHI'])\n",
    "print(type(df))#datatype is pd.dataframe not numpy array\n",
    "df_2D = df.to_numpy()#convert into numpy array\n"
   ]
  },
  {
   "cell_type": "code",
   "execution_count": 4,
   "id": "055cbd2f",
   "metadata": {},
   "outputs": [],
   "source": [
    "y = df_2D.flatten()#flatten into 1d array"
   ]
  },
  {
   "cell_type": "code",
   "execution_count": 5,
   "id": "d83948a4",
   "metadata": {},
   "outputs": [],
   "source": [
    "for count in range (0, 119):\n",
    "    if y[count]>=30:     #AHI>=30, class:3\n",
    "        y[count]=3\n",
    "    elif y[count]>=15:  #30>AHI>=15, class:2\n",
    "        y[count]=2\n",
    "    elif y[count]>=5:    #15>AHI>=5, class:1\n",
    "        y[count]=1\n",
    "    else:\n",
    "        y[count]=0       #5>AHI, class:0 "
   ]
  },
  {
   "cell_type": "markdown",
   "id": "3c083839",
   "metadata": {},
   "source": [
    "## extract input from excel"
   ]
  },
  {
   "cell_type": "code",
   "execution_count": 6,
   "id": "fe1186c2",
   "metadata": {},
   "outputs": [],
   "source": [
    "#BMI\n",
    "x1 = pd.DataFrame(data, columns=['BMI'])\n",
    "x1_2D = x1.to_numpy()#convert into numpy array\n",
    "x_bmi = x1_2D.flatten()#flatten into 1d array\n",
    "#Age\n",
    "x2 = pd.DataFrame(data, columns=['Age'])\n",
    "x2_2D = x2.to_numpy()#convert into numpy array\n",
    "x_age = x2_2D.flatten()#flatten into 1d array\n",
    "#neck\n",
    "x3 = pd.DataFrame(data, columns=['neck'])\n",
    "x3_2D = x3.to_numpy()#convert into numpy array\n",
    "x_neck = x3_2D.flatten()#flatten into 1d array\n",
    "#desaturatino index\n",
    "x4 = pd.DataFrame(data, columns=['desaturation index'])\n",
    "x4_2D = x4.to_numpy()#convert into numpy array\n",
    "x_dsi = x4_2D.flatten()#flatten into 1d array\n",
    "#CVHR-OR_CEI\n",
    "x5 = pd.DataFrame(data, columns=['Aligned CVHR-OR-CEI'])\n",
    "x5_2D = x5.to_numpy()#convert into numpy array\n",
    "x_cvhrorcei = x5_2D.flatten()#flatten into 1d array\n",
    "#CVHRI\n",
    "x6 = pd.DataFrame(data, columns=['CVHRI'])\n",
    "x6_2D = x6.to_numpy()#convert into numpy array\n",
    "x_cvhri = x6_2D.flatten()#flatten into 1d array\n",
    "#CEI\n",
    "x7 = pd.DataFrame(data, columns=['CEI'])\n",
    "x7_2D = x7.to_numpy()#convert into numpy array\n",
    "x_cei = x7_2D.flatten()#flatten into 1d array"
   ]
  },
  {
   "cell_type": "markdown",
   "id": "a73a2f83",
   "metadata": {},
   "source": [
    "# training a decision tree model"
   ]
  },
  {
   "cell_type": "markdown",
   "id": "0bd43991",
   "metadata": {},
   "source": [
    "## decide your inputs"
   ]
  },
  {
   "cell_type": "code",
   "execution_count": 7,
   "id": "ff387401",
   "metadata": {},
   "outputs": [],
   "source": [
    "X = np.stack((x_cvhri, x_cei), axis=-1)"
   ]
  },
  {
   "cell_type": "markdown",
   "id": "80e3e67e",
   "metadata": {},
   "source": [
    "## train test validation split"
   ]
  },
  {
   "cell_type": "code",
   "execution_count": 8,
   "id": "f6f189da",
   "metadata": {},
   "outputs": [],
   "source": [
    "from sklearn.model_selection import train_test_split \n",
    "X_trainval, X_test, y_trainval, y_test = train_test_split(X, y, test_size=0.15, shuffle=False)\n",
    "X_train, X_val, y_train, y_val = train_test_split(X_trainval, y_trainval, test_size=0.4, shuffle=False)"
   ]
  },
  {
   "cell_type": "markdown",
   "id": "df317a1c",
   "metadata": {},
   "source": [
    "## create a decision tree classifier"
   ]
  },
  {
   "cell_type": "markdown",
   "id": "2d0b9c18",
   "metadata": {},
   "source": [
    "### decide max_depth"
   ]
  },
  {
   "cell_type": "code",
   "execution_count": 9,
   "id": "33f62ea8",
   "metadata": {},
   "outputs": [],
   "source": [
    "from sklearn.model_selection import GridSearchCV\n",
    "param_dist = {'max_depth':range(1, 20, 1)}"
   ]
  },
  {
   "cell_type": "code",
   "execution_count": 10,
   "id": "b01bb820",
   "metadata": {},
   "outputs": [
    {
     "data": {
      "text/plain": [
       "GridSearchCV(cv=3, estimator=DecisionTreeClassifier(random_state=42), n_jobs=-1,\n",
       "             param_grid={'max_depth': range(1, 20)}, scoring='accuracy')"
      ]
     },
     "execution_count": 10,
     "metadata": {},
     "output_type": "execute_result"
    }
   ],
   "source": [
    "from sklearn.tree import DecisionTreeClassifier\n",
    "tree_clf = DecisionTreeClassifier(random_state=42)\n",
    "grid = GridSearchCV(tree_clf, param_dist, cv=3, scoring='accuracy', n_jobs=-1)\n",
    "grid.fit(X_val, y_val)"
   ]
  },
  {
   "cell_type": "code",
   "execution_count": 11,
   "id": "0aabd725",
   "metadata": {},
   "outputs": [
    {
     "data": {
      "text/plain": [
       "{'max_depth': 2}"
      ]
     },
     "execution_count": 11,
     "metadata": {},
     "output_type": "execute_result"
    }
   ],
   "source": [
    "grid.best_params_"
   ]
  },
  {
   "cell_type": "code",
   "execution_count": 12,
   "id": "a53d76ec",
   "metadata": {},
   "outputs": [
    {
     "data": {
      "text/plain": [
       "DecisionTreeClassifier(max_depth=2, random_state=42)"
      ]
     },
     "execution_count": 12,
     "metadata": {},
     "output_type": "execute_result"
    }
   ],
   "source": [
    "from sklearn.tree import DecisionTreeClassifier\n",
    "tree_clf = DecisionTreeClassifier(max_depth=grid.best_params_.get('max_depth'), random_state=42)\n",
    "tree_clf.fit(X_train, y_train)"
   ]
  },
  {
   "cell_type": "markdown",
   "id": "60d8b3ca",
   "metadata": {},
   "source": [
    "# Data visualization"
   ]
  },
  {
   "cell_type": "markdown",
   "id": "6a6f6f75",
   "metadata": {},
   "source": [
    "## export_text visualization"
   ]
  },
  {
   "cell_type": "code",
   "execution_count": 13,
   "id": "16d53f3e",
   "metadata": {},
   "outputs": [],
   "source": [
    "# from sklearn import tree\n",
    "# text_representation = tree.export_text(tree_clf, feature_names=(\"CVHRI\", \"CEI\"))\n",
    "# print(text_representation)"
   ]
  },
  {
   "cell_type": "markdown",
   "id": "eaf1a2eb",
   "metadata": {},
   "source": [
    "## plot tree visualization"
   ]
  },
  {
   "cell_type": "code",
   "execution_count": 14,
   "id": "d5513651",
   "metadata": {},
   "outputs": [],
   "source": [
    "# fig = plt.figure(figsize=(60, 20))\n",
    "# _ = tree.plot_tree(tree_clf, feature_names = (\"CVHRI\", \"CEI\"), filled=True)"
   ]
  },
  {
   "cell_type": "markdown",
   "id": "ac4459da",
   "metadata": {},
   "source": [
    "# testing data evaluation"
   ]
  },
  {
   "cell_type": "markdown",
   "id": "5798fc98",
   "metadata": {},
   "source": [
    "reference: https://towardsdatascience.com/train-a-regression-model-using-a-decision-tree-70012c22bcc1"
   ]
  },
  {
   "cell_type": "code",
   "execution_count": 15,
   "id": "199abb77",
   "metadata": {},
   "outputs": [
    {
     "data": {
      "image/png": "[encoded data removed]",
      "text/plain": [
       "<Figure size 432x288 with 1 Axes>"
      ]
     },
     "metadata": {
      "needs_background": "light"
     },
     "output_type": "display_data"
    }
   ],
   "source": [
    "from sklearn.metrics import accuracy_score as accuracy #import library of mse\n",
    "\n",
    "max_depths = range(1, 20)\n",
    "#training accuracy curve\n",
    "training_accuracy = []\n",
    "for max_depth in max_depths:\n",
    "    model_1 = DecisionTreeClassifier(max_depth=max_depth)\n",
    "    model_1.fit(X_train, y_train)#use the same training set model\n",
    "    training_accuracy.append(accuracy(y_train, model_1.predict(X_train)))#training accuracy\n",
    "#testing accuracy curve\n",
    "testing_accuracy = []\n",
    "for max_depth in max_depths:\n",
    "    model_1 = DecisionTreeClassifier(max_depth=max_depth)\n",
    "    model_1.fit(X_train, y_train)#use the same training set model\n",
    "    testing_accuracy.append(accuracy(y_test, model_1.predict(X_test)))#testing accuracy\n",
    "#find the accuracy on the validation accuracy curve\n",
    "optimized_max_depth = grid.best_params_.get('max_depth')\n",
    "max_accuracy = np.argmax(testing_accuracy)\n",
    "#graph setting\n",
    "plt.plot(max_depths, training_accuracy, color='blue', label='Training accuracy')\n",
    "plt.plot(max_depths, testing_accuracy, color='green', label='Testing accuracy')\n",
    "plt.xlabel('Tree depth')\n",
    "plt.axvline(max_accuracy+1, color='orange', linestyle='--')#becuse list counts from 0, we need to plus 1\n",
    "plt.annotate('optimum ='+(max_accuracy+1).astype(str), xy=(max_accuracy, max(testing_accuracy)), color='orange')\n",
    "plt.axvline(optimized_max_depth, color='green', linestyle='--')\n",
    "plt.annotate('max_depth ='+str(optimized_max_depth), xy=(optimized_max_depth, 0.9), color='green')\n",
    "plt.ylabel('Accuracy')\n",
    "plt.title('Hyperparameter Tuning', pad=15, size=15)\n",
    "plt.legend()\n",
    "plt.savefig('accuracy.png')"
   ]
  },
  {
   "cell_type": "markdown",
   "id": "e21412dd",
   "metadata": {},
   "source": [
    "#   testing data evaluation"
   ]
  },
  {
   "cell_type": "code",
   "execution_count": 16,
   "id": "7a86f472",
   "metadata": {},
   "outputs": [
    {
     "name": "stdout",
     "output_type": "stream",
     "text": [
      "classification for classifier DecisionTreeClassifier(max_depth=2, random_state=42):\n",
      "              precision    recall  f1-score   support\n",
      "\n",
      "         0.0       1.00      0.57      0.73         7\n",
      "         1.0       0.79      1.00      0.88        11\n",
      "\n",
      "    accuracy                           0.83        18\n",
      "   macro avg       0.89      0.79      0.80        18\n",
      "weighted avg       0.87      0.83      0.82        18\n",
      "\n",
      "\n"
     ]
    }
   ],
   "source": [
    "from sklearn import metrics\n",
    "expected = y_test\n",
    "predicted = tree_clf.predict(X_test)\n",
    "\n",
    "print(\"classification for classifier %s:\\n%s\\n\"\n",
    "      % (tree_clf, metrics.classification_report(expected, predicted)))"
   ]
  },
  {
   "cell_type": "code",
   "execution_count": 17,
   "id": "4c461b95",
   "metadata": {},
   "outputs": [
    {
     "name": "stdout",
     "output_type": "stream",
     "text": [
      "DecisionTreeClassifier 0.8333333333333334\n"
     ]
    }
   ],
   "source": [
    "from sklearn.metrics import accuracy_score\n",
    "y_pred = tree_clf.predict(X_test)\n",
    "print(tree_clf.__class__.__name__, accuracy_score(y_test, y_pred))"
   ]
  },
  {
   "cell_type": "code",
   "execution_count": 18,
   "id": "5b6241aa",
   "metadata": {},
   "outputs": [
    {
     "name": "stdout",
     "output_type": "stream",
     "text": [
      "              precision    recall  f1-score   support\n",
      "\n",
      "         0.0       1.00      0.57      0.73         7\n",
      "         1.0       0.79      1.00      0.88        11\n",
      "\n",
      "    accuracy                           0.83        18\n",
      "   macro avg       0.89      0.79      0.80        18\n",
      "weighted avg       0.87      0.83      0.82        18\n",
      "\n"
     ]
    }
   ],
   "source": [
    "from sklearn.metrics import classification_report\n",
    "print(classification_report(y_true=y_test, y_pred=y_pred))"
   ]
  },
  {
   "cell_type": "markdown",
   "id": "352a750e",
   "metadata": {},
   "source": [
    "## AUC"
   ]
  },
  {
   "cell_type": "code",
   "execution_count": 19,
   "id": "be73a0ed",
   "metadata": {},
   "outputs": [
    {
     "data": {
      "text/plain": [
       "0.8376623376623376"
      ]
     },
     "execution_count": 19,
     "metadata": {},
     "output_type": "execute_result"
    }
   ],
   "source": [
    "from sklearn.metrics import roc_curve\n",
    "from sklearn.metrics import roc_auc_score\n",
    "y_score = tree_clf.predict_proba(X_test)[:, 1]\n",
    "fpr, tpr, thresholds = metrics.roc_curve(y_test, y_score, pos_label=1)\n",
    "area=roc_auc_score(y_test, y_score)\n",
    "metrics.auc(fpr, tpr)"
   ]
  },
  {
   "cell_type": "code",
   "execution_count": 20,
   "id": "aac57a33",
   "metadata": {},
   "outputs": [
    {
     "data": {
      "text/plain": [
       "<function matplotlib.pyplot.show(close=None, block=None)>"
      ]
     },
     "execution_count": 20,
     "metadata": {},
     "output_type": "execute_result"
    },
    {
     "data": {
      "image/png": "[encoded data removed]",
      "text/plain": [
       "<Figure size 432x288 with 1 Axes>"
      ]
     },
     "metadata": {
      "needs_background": "light"
     },
     "output_type": "display_data"
    }
   ],
   "source": [
    "plt.figure()\n",
    "plt.plot(fpr, tpr, color='red', label='ROC curve (area = %0.2f)' %area)\n",
    "plt.plot([0, 1], [0, 1], color='black', linestyle='--')\n",
    "plt.xlim([-0.05, 1.05])\n",
    "plt.ylim([-0.05, 1.05])\n",
    "plt.xlabel('False positive rate')\n",
    "plt.ylabel('True positive rate')\n",
    "plt.legend(loc='lower right')\n",
    "plt.show"
   ]
  },
  {
   "cell_type": "markdown",
   "id": "147133f2",
   "metadata": {},
   "source": [
    "## confusion matrix"
   ]
  },
  {
   "cell_type": "code",
   "execution_count": 21,
   "id": "ea8523b2",
   "metadata": {},
   "outputs": [
    {
     "data": {
      "text/plain": [
       "array([[ 4,  3],\n",
       "       [ 0, 11]], dtype=int64)"
      ]
     },
     "execution_count": 21,
     "metadata": {},
     "output_type": "execute_result"
    }
   ],
   "source": [
    "from sklearn.metrics import accuracy_score, confusion_matrix, classification_report\n",
    "confusion_matrix(y_test, y_pred)"
   ]
  },
  {
   "cell_type": "code",
   "execution_count": 22,
   "id": "6fd7a1dc",
   "metadata": {},
   "outputs": [],
   "source": [
    "# from matplotlib.colors import ListedColormap\n",
    "\n",
    "# def plot_decision_boundary(clf, X, y, axes=[0, 40, 0, 100], iris=True, legend=False, plot_training=True):\n",
    "#     x1s = np.linspace(axes[0], axes[1], 100)\n",
    "#     x2s = np.linspace(axes[2], axes[3], 100)\n",
    "#     x1, x2 = np.meshgrid(x1s, x2s)\n",
    "#     X_new = np.c_[x1.ravel(), x2.ravel()]\n",
    "#     y_pred = clf.predict(X_new).reshape(x1.shape)\n",
    "#     custom_cmap = ListedColormap(['#fafab0','#9898ff','#a0faa0'])\n",
    "#     plt.contourf(x1, x2, y_pred, alpha=0.3, cmap=custom_cmap)\n",
    "#     if not iris:\n",
    "#         custom_cmap2 = ListedColormap(['#7d7d58','#4c4c7f','#507d50'])\n",
    "#         plt.contour(x1, x2, y_pred, cmap=custom_cmap2, alpha=0.8)\n",
    "#     if plot_training:\n",
    "#         plt.plot(X[:, 0][y==0], X[:, 1][y==0], \"yo\", label=\"no apenia\")\n",
    "#         plt.plot(X[:, 0][y==1], X[:, 1][y==1], \"bs\", label=\"low AHI\")\n",
    "#         plt.plot(X[:, 0][y==2], X[:, 1][y==2], \"g^\", label=\"medium AHI\")\n",
    "#         plt.plot(X[:, 0][y==3], X[:, 1][y==3], \"r*\", label=\"high AHI\")\n",
    "#         plt.axis(axes)\n",
    "#     if iris:\n",
    "#         plt.xlabel(\"BMI\", fontsize=14)\n",
    "#         plt.ylabel(\"CVHR_OR_CEI\", fontsize=14)\n",
    "#     else:\n",
    "#         plt.xlabel(r\"$x_1$\", fontsize=18)\n",
    "#         plt.ylabel(r\"$x_2$\", fontsize=18, rotation=0)\n",
    "#     if legend:\n",
    "#         plt.legend(loc=\"lower right\", fontsize=14)\n",
    "\n",
    "# plt.figure(figsize=(8, 4))\n",
    "# plot_decision_boundary(tree_clf, X_train, y_train)\n",
    "# # plt.plot([2.45, 2.45], [0, 3], \"k-\", linewidth=2)\n",
    "# # plt.plot([2.45, 7.5], [1.75, 1.75], \"k--\", linewidth=2)\n",
    "# # plt.plot([4.95, 4.95], [0, 1.75], \"k:\", linewidth=2)\n",
    "# # plt.plot([4.85, 4.85], [1.75, 3], \"k:\", linewidth=2)\n",
    "# # plt.text(1.40, 1.0, \"Depth=0\", fontsize=15)\n",
    "# # plt.text(3.2, 1.80, \"Depth=1\", fontsize=13)\n",
    "# # plt.text(4.05, 0.5, \"(Depth=2)\", fontsize=11)\n",
    "\n",
    "# save_fig(\"decision_tree_decision_boundaries_plot\")\n",
    "# plt.show()"
   ]
  },
  {
   "cell_type": "code",
   "execution_count": null,
   "id": "00a65af7",
   "metadata": {},
   "outputs": [],
   "source": []
  },
  {
   "cell_type": "code",
   "execution_count": null,
   "id": "64e121f5",
   "metadata": {},
   "outputs": [],
   "source": []
  }
 ],
 "metadata": {
  "kernelspec": {
   "display_name": "Python 3",
   "language": "python",
   "name": "python3"
  },
  "language_info": {
   "codemirror_mode": {
    "name": "ipython",
    "version": 3
   },
   "file_extension": ".py",
   "mimetype": "text/x-python",
   "name": "python",
   "nbconvert_exporter": "python",
   "pygments_lexer": "ipython3",
   "version": "3.8.8"
  }
 },
 "nbformat": 4,
 "nbformat_minor": 5
}
