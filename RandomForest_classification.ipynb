{
 "cells": [
  {
   "cell_type": "markdown",
   "id": "5854f450",
   "metadata": {},
   "source": [
    "# set up"
   ]
  },
  {
   "cell_type": "code",
   "execution_count": 1,
   "id": "4edb6716",
   "metadata": {},
   "outputs": [],
   "source": [
    "# Python ≥3.5 is required\n",
    "import sys\n",
    "assert sys.version_info >= (3, 5)\n",
    "\n",
    "# Scikit-Learn ≥0.20 is required\n",
    "import sklearn\n",
    "assert sklearn.__version__ >= \"0.20\"\n",
    "\n",
    "# Common imports\n",
    "import numpy as np\n",
    "import os\n",
    "\n",
    "# to make this notebook's output stable across runs\n",
    "np.random.seed(42)\n",
    "\n",
    "# To plot pretty figures\n",
    "%matplotlib inline\n",
    "import matplotlib as mpl\n",
    "import matplotlib.pyplot as plt\n",
    "mpl.rc('axes', labelsize=14)\n",
    "mpl.rc('xtick', labelsize=12)\n",
    "mpl.rc('ytick', labelsize=12)\n",
    "\n",
    "# Where to save the figures\n",
    "PROJECT_ROOT_DIR = \".\"\n",
    "CHAPTER_ID = \"ensembles\"\n",
    "IMAGES_PATH = os.path.join(PROJECT_ROOT_DIR, \"images\", CHAPTER_ID)\n",
    "os.makedirs(IMAGES_PATH, exist_ok=True)\n",
    "\n",
    "def save_fig(fig_id, tight_layout=True, fig_extension=\"png\", resolution=300):\n",
    "    path = os.path.join(IMAGES_PATH, fig_id + \".\" + fig_extension)\n",
    "    print(\"Saving figure\", fig_id)\n",
    "    if tight_layout:\n",
    "        plt.tight_layout()\n",
    "    plt.savefig(path, format=fig_extension, dpi=resolution)"
   ]
  },
  {
   "cell_type": "markdown",
   "id": "a18a6624",
   "metadata": {},
   "source": [
    "# import dataset"
   ]
  },
  {
   "cell_type": "code",
   "execution_count": 2,
   "id": "e178fb0d",
   "metadata": {},
   "outputs": [],
   "source": [
    "import pandas as pd\n",
    "data = pd.read_excel(r'C:\\Users\\ASUS\\Desktop\\machine learning\\MLfinalReport\\AHIdata.xlsx')"
   ]
  },
  {
   "cell_type": "code",
   "execution_count": 3,
   "id": "35e7b7ed",
   "metadata": {},
   "outputs": [
    {
     "name": "stdout",
     "output_type": "stream",
     "text": [
      "<class 'pandas.core.frame.DataFrame'>\n"
     ]
    }
   ],
   "source": [
    "df = pd.DataFrame(data, columns=['rescored AHI'])\n",
    "print(type(df))#datatype is pd.dataframe not numpy array\n",
    "df_2D = df.to_numpy()#convert into numpy array"
   ]
  },
  {
   "cell_type": "code",
   "execution_count": 4,
   "id": "32674e58",
   "metadata": {},
   "outputs": [],
   "source": [
    "y_stack = df_2D.flatten()#flatten into 1d array"
   ]
  },
  {
   "cell_type": "code",
   "execution_count": 5,
   "id": "8a451219",
   "metadata": {},
   "outputs": [],
   "source": [
    "for count in range (0, 119):\n",
    "    if y_stack[count]>=30:#AHI>=30, class:3\n",
    "        y_stack[count]=3\n",
    "    elif y_stack[count]>=15:#30>AHI>=15, class:2\n",
    "        y_stack[count]=2\n",
    "    elif y_stack[count]>=5:#15>AHI>=5, class: 1\n",
    "        y_stack[count]=1\n",
    "    else:\n",
    "        y_stack[count]=0#5>AHI, class:0"
   ]
  },
  {
   "cell_type": "markdown",
   "id": "f474b42d",
   "metadata": {},
   "source": [
    "# extract inputs form excel"
   ]
  },
  {
   "cell_type": "code",
   "execution_count": 6,
   "id": "8a66aaca",
   "metadata": {},
   "outputs": [],
   "source": [
    "#BMI\n",
    "x1 = pd.DataFrame(data, columns=['BMI'])\n",
    "x1_2D = x1.to_numpy()#convert into numpy array\n",
    "x_bmi = x1_2D.flatten()#flatten into 1d array\n",
    "#Age\n",
    "x2 = pd.DataFrame(data, columns=['Age'])\n",
    "x2_2D = x2.to_numpy()#convert into numpy array\n",
    "x_age = x2_2D.flatten()#flatten into 1d array\n",
    "#neck\n",
    "x3 = pd.DataFrame(data, columns=['neck'])\n",
    "x3_2D = x3.to_numpy()#convert into numpy array\n",
    "x_neck = x3_2D.flatten()#flatten into 1d array\n",
    "#desaturatino index\n",
    "x4 = pd.DataFrame(data, columns=['desaturation index'])\n",
    "x4_2D = x4.to_numpy()#convert into numpy array\n",
    "x_dsi = x4_2D.flatten()#flatten into 1d array\n",
    "#CVHR-OR_CEI\n",
    "x5 = pd.DataFrame(data, columns=['Aligned CVHR-OR-CEI'])\n",
    "x5_2D = x5.to_numpy()#convert into numpy array\n",
    "x_cvhrorcei = x5_2D.flatten()#flatten into 1d array\n",
    "#CVHRI\n",
    "x6 = pd.DataFrame(data, columns=['CVHRI'])\n",
    "x6_2D = x6.to_numpy()#convert into numpy array\n",
    "x_cvhri = x6_2D.flatten()#flatten into 1d array\n",
    "#CEI\n",
    "x7 = pd.DataFrame(data, columns=['CEI'])\n",
    "x7_2D = x7.to_numpy()#convert into numpy array\n",
    "x_cei = x7_2D.flatten()#flatten into 1d array"
   ]
  },
  {
   "cell_type": "markdown",
   "id": "cd60ecb7",
   "metadata": {},
   "source": [
    "## decide your inputs"
   ]
  },
  {
   "cell_type": "code",
   "execution_count": 7,
   "id": "67f72ddf",
   "metadata": {},
   "outputs": [],
   "source": [
    "X_stack = np.stack((x_cvhri, x_cei), axis=-1)"
   ]
  },
  {
   "cell_type": "markdown",
   "id": "8cd06bed",
   "metadata": {},
   "source": [
    "## test train validation split"
   ]
  },
  {
   "cell_type": "code",
   "execution_count": 8,
   "id": "c172a962",
   "metadata": {},
   "outputs": [],
   "source": [
    "from sklearn.model_selection import train_test_split \n",
    "X_trainval, X_test, y_trainval, y_test = train_test_split(X_stack, y_stack, test_size=0.15, shuffle=False)\n",
    "X_train, X_val, y_train, y_val = train_test_split(X_trainval, y_trainval, test_size=0.4, shuffle=False)"
   ]
  },
  {
   "cell_type": "markdown",
   "id": "6fef84ee",
   "metadata": {},
   "source": [
    "## decide hyperparameter "
   ]
  },
  {
   "cell_type": "code",
   "execution_count": 9,
   "id": "58d730db",
   "metadata": {},
   "outputs": [],
   "source": [
    "from sklearn.model_selection import GridSearchCV\n",
    "param_dist = {\n",
    "    'n_estimators':range(500, 1500, 100),\n",
    "    'max_depth':range(1, 20, 1),\n",
    "    }"
   ]
  },
  {
   "cell_type": "code",
   "execution_count": 10,
   "id": "42f4b02e",
   "metadata": {},
   "outputs": [
    {
     "data": {
      "text/plain": [
       "GridSearchCV(cv=3, estimator=RandomForestClassifier(random_state=42), n_jobs=-1,\n",
       "             param_grid={'max_depth': range(1, 20),\n",
       "                         'n_estimators': range(500, 1500, 100)},\n",
       "             scoring='accuracy')"
      ]
     },
     "execution_count": 10,
     "metadata": {},
     "output_type": "execute_result"
    }
   ],
   "source": [
    "from sklearn.ensemble import RandomForestClassifier\n",
    "\n",
    "rnd_clf = RandomForestClassifier(random_state=42)\n",
    "grid = GridSearchCV(rnd_clf, param_dist, cv=3, scoring='accuracy', n_jobs=-1)\n",
    "grid.fit(X_val, y_val)"
   ]
  },
  {
   "cell_type": "code",
   "execution_count": 11,
   "id": "ff1ab0e8",
   "metadata": {},
   "outputs": [
    {
     "data": {
      "text/plain": [
       "{'max_depth': 1, 'n_estimators': 500}"
      ]
     },
     "execution_count": 11,
     "metadata": {},
     "output_type": "execute_result"
    }
   ],
   "source": [
    "grid.best_params_"
   ]
  },
  {
   "cell_type": "code",
   "execution_count": 12,
   "id": "f169052d",
   "metadata": {},
   "outputs": [],
   "source": [
    "rnd_clf = RandomForestClassifier(n_estimators=grid.best_params_.get('n_estimators'), \n",
    "                                 max_depth=grid.best_params_.get('max_depth'), \n",
    "                                 random_state=42)\n",
    "rnd_clf.fit(X_train, y_train)\n",
    "y_pred_rf = rnd_clf.predict(X_test)"
   ]
  },
  {
   "cell_type": "markdown",
   "id": "44098a57",
   "metadata": {},
   "source": [
    "### code from: https://medium.com/analytics-vidhya/evaluating-a-random-forest-model-9d165595ad56"
   ]
  },
  {
   "cell_type": "code",
   "execution_count": 13,
   "id": "601cf7bd",
   "metadata": {},
   "outputs": [
    {
     "data": {
      "text/plain": [
       "0.8333333333333334"
      ]
     },
     "execution_count": 13,
     "metadata": {},
     "output_type": "execute_result"
    }
   ],
   "source": [
    "from sklearn.metrics import accuracy_score, confusion_matrix, classification_report\n",
    "accuracy_score(y_test, y_pred_rf)"
   ]
  },
  {
   "cell_type": "code",
   "execution_count": 14,
   "id": "558efb21",
   "metadata": {},
   "outputs": [
    {
     "data": {
      "text/plain": [
       "array([[ 4,  3],\n",
       "       [ 0, 11]], dtype=int64)"
      ]
     },
     "execution_count": 14,
     "metadata": {},
     "output_type": "execute_result"
    }
   ],
   "source": [
    "from sklearn.metrics import accuracy_score, confusion_matrix, classification_report\n",
    "confusion_matrix(y_test, y_pred_rf)"
   ]
  },
  {
   "cell_type": "code",
   "execution_count": 15,
   "id": "f7388f3e",
   "metadata": {},
   "outputs": [
    {
     "data": {
      "image/png": "[encoded data removed]",
      "text/plain": [
       "<Figure size 1152x504 with 2 Axes>"
      ]
     },
     "metadata": {
      "needs_background": "light"
     },
     "output_type": "display_data"
    }
   ],
   "source": [
    "import seaborn as sns\n",
    "# Get and reshape confusion matrix data\n",
    "matrix = confusion_matrix(y_test, y_pred_rf)\n",
    "matrix = matrix.astype('float') / matrix.sum(axis=1)[:, np.newaxis]\n",
    "\n",
    "# Build the plot\n",
    "plt.figure(figsize=(16,7))\n",
    "sns.set(font_scale=1.4)\n",
    "sns.heatmap(matrix, annot=True, annot_kws={'size':10},\n",
    "            cmap=plt.cm.Greens, linewidths=0.2)\n",
    "\n",
    "# Add labels to the plot\n",
    "class_names = ['No apnea', 'low AHI', 'medium AHI', 'high AHI']\n",
    "tick_marks = np.arange(len(class_names))\n",
    "tick_marks2 = tick_marks + 0.5\n",
    "plt.xticks(tick_marks, class_names, rotation=0)\n",
    "plt.yticks(tick_marks2, class_names, rotation=0)\n",
    "plt.xlabel('Predicted label')\n",
    "plt.ylabel('True label')\n",
    "plt.title('Confusion Matrix for Random Forest Model')\n",
    "plt.show()"
   ]
  },
  {
   "cell_type": "code",
   "execution_count": 16,
   "id": "9a719133",
   "metadata": {},
   "outputs": [
    {
     "name": "stdout",
     "output_type": "stream",
     "text": [
      "              precision    recall  f1-score   support\n",
      "\n",
      "         0.0       1.00      0.57      0.73         7\n",
      "         1.0       0.79      1.00      0.88        11\n",
      "\n",
      "    accuracy                           0.83        18\n",
      "   macro avg       0.89      0.79      0.80        18\n",
      "weighted avg       0.87      0.83      0.82        18\n",
      "\n"
     ]
    }
   ],
   "source": [
    "print(classification_report(y_test, y_pred_rf))"
   ]
  },
  {
   "cell_type": "markdown",
   "id": "bb4a6a97",
   "metadata": {},
   "source": [
    "## AUC"
   ]
  },
  {
   "cell_type": "code",
   "execution_count": 17,
   "id": "ae7b4cd9",
   "metadata": {},
   "outputs": [],
   "source": [
    "from sklearn.metrics import roc_curve\n",
    "from sklearn.metrics import roc_auc_score\n",
    "y_score = rnd_clf.predict_proba(X_test)[:, 1]\n",
    "fpr, tpr, thresholds = roc_curve(y_test, y_score, pos_label=1)\n",
    "area=roc_auc_score(y_test, y_score)\n",
    "# metrics.auc(fpr, tpr)"
   ]
  },
  {
   "cell_type": "code",
   "execution_count": 18,
   "id": "2a85c376",
   "metadata": {},
   "outputs": [
    {
     "data": {
      "text/plain": [
       "<function matplotlib.pyplot.show(close=None, block=None)>"
      ]
     },
     "execution_count": 18,
     "metadata": {},
     "output_type": "execute_result"
    },
    {
     "data": {
      "image/png": "[encoded data removed]",
      "text/plain": [
       "<Figure size 432x288 with 1 Axes>"
      ]
     },
     "metadata": {},
     "output_type": "display_data"
    }
   ],
   "source": [
    "plt.figure()\n",
    "plt.plot(fpr, tpr, color='red', label='ROC curve (area = %0.2f)' %area)\n",
    "plt.plot([0, 1], [0, 1], color='black', linestyle='--')\n",
    "plt.xlim([-0.05, 1.05])\n",
    "plt.ylim([-0.05, 1.05])\n",
    "plt.xlabel('False positive rate')\n",
    "plt.ylabel('True positive rate')\n",
    "plt.legend(loc='lower right')\n",
    "plt.show"
   ]
  },
  {
   "cell_type": "code",
   "execution_count": null,
   "id": "d21b89f5",
   "metadata": {},
   "outputs": [],
   "source": []
  }
 ],
 "metadata": {
  "kernelspec": {
   "display_name": "Python 3",
   "language": "python",
   "name": "python3"
  },
  "language_info": {
   "codemirror_mode": {
    "name": "ipython",
    "version": 3
   },
   "file_extension": ".py",
   "mimetype": "text/x-python",
   "name": "python",
   "nbconvert_exporter": "python",
   "pygments_lexer": "ipython3",
   "version": "3.8.8"
  }
 },
 "nbformat": 4,
 "nbformat_minor": 5
}
