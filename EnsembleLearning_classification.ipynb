{
 "cells": [
  {
   "cell_type": "markdown",
   "id": "5854f450",
   "metadata": {},
   "source": [
    "# set up"
   ]
  },
  {
   "cell_type": "code",
   "execution_count": 1,
   "id": "4edb6716",
   "metadata": {},
   "outputs": [],
   "source": [
    "# Python ≥3.5 is required\n",
    "import sys\n",
    "assert sys.version_info >= (3, 5)\n",
    "\n",
    "# Scikit-Learn ≥0.20 is required\n",
    "import sklearn\n",
    "assert sklearn.__version__ >= \"0.20\"\n",
    "\n",
    "# Common imports\n",
    "import numpy as np\n",
    "import os\n",
    "\n",
    "# to make this notebook's output stable across runs\n",
    "np.random.seed(42)\n",
    "\n",
    "# To plot pretty figures\n",
    "%matplotlib inline\n",
    "import matplotlib as mpl\n",
    "import matplotlib.pyplot as plt\n",
    "mpl.rc('axes', labelsize=14)\n",
    "mpl.rc('xtick', labelsize=12)\n",
    "mpl.rc('ytick', labelsize=12)\n",
    "\n",
    "# Where to save the figures\n",
    "PROJECT_ROOT_DIR = \".\"\n",
    "CHAPTER_ID = \"ensembles\"\n",
    "IMAGES_PATH = os.path.join(PROJECT_ROOT_DIR, \"images\", CHAPTER_ID)\n",
    "os.makedirs(IMAGES_PATH, exist_ok=True)\n",
    "\n",
    "def save_fig(fig_id, tight_layout=True, fig_extension=\"png\", resolution=300):\n",
    "    path = os.path.join(IMAGES_PATH, fig_id + \".\" + fig_extension)\n",
    "    print(\"Saving figure\", fig_id)\n",
    "    if tight_layout:\n",
    "        plt.tight_layout()\n",
    "    plt.savefig(path, format=fig_extension, dpi=resolution)"
   ]
  },
  {
   "cell_type": "markdown",
   "id": "a18a6624",
   "metadata": {},
   "source": [
    "# import dataset"
   ]
  },
  {
   "cell_type": "code",
   "execution_count": 2,
   "id": "e178fb0d",
   "metadata": {},
   "outputs": [],
   "source": [
    "import pandas as pd\n",
    "data = pd.read_excel(r'C:\\Users\\ASUS\\Desktop\\machine learning\\MLfinalReport\\AHIdata.xlsx')"
   ]
  },
  {
   "cell_type": "code",
   "execution_count": 3,
   "id": "35e7b7ed",
   "metadata": {},
   "outputs": [
    {
     "name": "stdout",
     "output_type": "stream",
     "text": [
      "<class 'pandas.core.frame.DataFrame'>\n"
     ]
    }
   ],
   "source": [
    "df = pd.DataFrame(data, columns=['rescored AHI'])\n",
    "print(type(df))#datatype is pd.dataframe not numpy array\n",
    "df_2D = df.to_numpy()#convert into numpy array"
   ]
  },
  {
   "cell_type": "code",
   "execution_count": 4,
   "id": "32674e58",
   "metadata": {},
   "outputs": [],
   "source": [
    "y_stack = df_2D.flatten()#flatten into 1d array"
   ]
  },
  {
   "cell_type": "code",
   "execution_count": 5,
   "id": "8a451219",
   "metadata": {},
   "outputs": [],
   "source": [
    "for count in range (0, 119):\n",
    "    if y_stack[count]>=30:#AHI>=30, class:3\n",
    "        y_stack[count]=3\n",
    "    elif y_stack[count]>=15:#30>AHI>=15, class:2\n",
    "        y_stack[count]=2\n",
    "    elif y_stack[count]>=5:#15>AHI>=5, class: 1\n",
    "        y_stack[count]=1\n",
    "    else:\n",
    "        y_stack[count]=0#5>AHI, class:0"
   ]
  },
  {
   "cell_type": "markdown",
   "id": "f474b42d",
   "metadata": {},
   "source": [
    "# extract inputs form excel"
   ]
  },
  {
   "cell_type": "code",
   "execution_count": 6,
   "id": "8a66aaca",
   "metadata": {},
   "outputs": [],
   "source": [
    "#BMI\n",
    "x1 = pd.DataFrame(data, columns=['BMI'])\n",
    "x1_2D = x1.to_numpy()#convert into numpy array\n",
    "x_bmi = x1_2D.flatten()#flatten into 1d array\n",
    "#Age\n",
    "x2 = pd.DataFrame(data, columns=['Age'])\n",
    "x2_2D = x2.to_numpy()#convert into numpy array\n",
    "x_age = x2_2D.flatten()#flatten into 1d array\n",
    "#neck\n",
    "x3 = pd.DataFrame(data, columns=['neck'])\n",
    "x3_2D = x3.to_numpy()#convert into numpy array\n",
    "x_neck = x3_2D.flatten()#flatten into 1d array\n",
    "#desaturatino index\n",
    "x4 = pd.DataFrame(data, columns=['desaturation index'])\n",
    "x4_2D = x4.to_numpy()#convert into numpy array\n",
    "x_dsi = x4_2D.flatten()#flatten into 1d array\n",
    "#CVHR-OR_CEI\n",
    "x5 = pd.DataFrame(data, columns=['Aligned CVHR-OR-CEI'])\n",
    "x5_2D = x5.to_numpy()#convert into numpy array\n",
    "x_cvhrorcei = x5_2D.flatten()#flatten into 1d array\n",
    "#CVHRI\n",
    "x6 = pd.DataFrame(data, columns=['CVHRI'])\n",
    "x6_2D = x6.to_numpy()#convert into numpy array\n",
    "x_cvhri = x6_2D.flatten()#flatten into 1d array\n",
    "#CEI\n",
    "x7 = pd.DataFrame(data, columns=['CEI'])\n",
    "x7_2D = x7.to_numpy()#convert into numpy array\n",
    "x_cei = x7_2D.flatten()#flatten into 1d array"
   ]
  },
  {
   "cell_type": "code",
   "execution_count": 7,
   "id": "67f72ddf",
   "metadata": {},
   "outputs": [],
   "source": [
    "X_stack = np.stack((x_cvhri, x_cei), axis=-1)"
   ]
  },
  {
   "cell_type": "code",
   "execution_count": 8,
   "id": "c172a962",
   "metadata": {},
   "outputs": [],
   "source": [
    "from sklearn.model_selection import train_test_split \n",
    "X_trainval, X_test, y_trainval, y_test = train_test_split(X_stack, y_stack, test_size=0.15, shuffle=False)\n",
    "X_train, X_val, y_train, y_val = train_test_split(X_trainval, y_trainval, test_size=0.4, shuffle=False)"
   ]
  },
  {
   "cell_type": "markdown",
   "id": "6fef84ee",
   "metadata": {},
   "source": [
    "### code from hands on ML"
   ]
  },
  {
   "cell_type": "code",
   "execution_count": 9,
   "id": "42f4b02e",
   "metadata": {},
   "outputs": [],
   "source": [
    "from sklearn.ensemble import RandomForestClassifier\n",
    "from sklearn.ensemble import VotingClassifier\n",
    "from sklearn.svm import SVC\n",
    "from sklearn.tree import DecisionTreeClassifier\n",
    "\n",
    "tree_clf = DecisionTreeClassifier(max_depth=5, random_state=42)\n",
    "rnd_clf1 = RandomForestClassifier(n_estimators=500, max_depth=2, random_state=42)\n",
    "rnd_clf2 = RandomForestClassifier(n_estimators=1300, max_depth=3, random_state=42)\n",
    "svm_clf1 = SVC(kernel='sigmoid', gamma=1, C=10, decision_function_shape='ovo', random_state=42, probability=True)\n",
    "svm_clf2 = SVC(kernel='rbf', gamma=1, C=1000, decision_function_shape='ovo', random_state=42, probability=True)\n",
    "\n",
    "\n",
    "voting_clf = VotingClassifier(\n",
    "    estimators=[('tree', tree_clf), ('rf1', rnd_clf1), ('rf2', rnd_clf2), ('svc1', svm_clf1), ('svc2', svm_clf2)],\n",
    "    voting='hard')"
   ]
  },
  {
   "cell_type": "code",
   "execution_count": 10,
   "id": "601cf7bd",
   "metadata": {},
   "outputs": [
    {
     "data": {
      "text/plain": [
       "VotingClassifier(estimators=[('tree',\n",
       "                              DecisionTreeClassifier(max_depth=5,\n",
       "                                                     random_state=42)),\n",
       "                             ('rf1',\n",
       "                              RandomForestClassifier(max_depth=2,\n",
       "                                                     n_estimators=500,\n",
       "                                                     random_state=42)),\n",
       "                             ('rf2',\n",
       "                              RandomForestClassifier(max_depth=3,\n",
       "                                                     n_estimators=1300,\n",
       "                                                     random_state=42)),\n",
       "                             ('svc1',\n",
       "                              SVC(C=10, decision_function_shape='ovo', gamma=1,\n",
       "                                  kernel='sigmoid', probability=True,\n",
       "                                  random_state=42)),\n",
       "                             ('svc2',\n",
       "                              SVC(C=1000, decision_function_shape='ovo',\n",
       "                                  gamma=1, probability=True,\n",
       "                                  random_state=42))],\n",
       "                 voting='soft')"
      ]
     },
     "execution_count": 10,
     "metadata": {},
     "output_type": "execute_result"
    }
   ],
   "source": [
    "voting_clf.fit(X_train, y_train)"
   ]
  },
  {
   "cell_type": "code",
   "execution_count": 11,
   "id": "558efb21",
   "metadata": {},
   "outputs": [
    {
     "name": "stdout",
     "output_type": "stream",
     "text": [
      "DecisionTreeClassifier 0.6666666666666666\n",
      "RandomForestClassifier 0.8333333333333334\n",
      "RandomForestClassifier 0.8333333333333334\n",
      "SVC 0.6111111111111112\n",
      "SVC 0.6666666666666666\n",
      "VotingClassifier 0.6666666666666666\n"
     ]
    }
   ],
   "source": [
    "from sklearn.metrics import accuracy_score\n",
    "\n",
    "for clf in (tree_clf, rnd_clf1, rnd_clf2, svm_clf1, svm_clf2, voting_clf):\n",
    "    clf.fit(X_train, y_train)\n",
    "    y_pred = clf.predict(X_test)\n",
    "    print(clf.__class__.__name__, accuracy_score(y_test, y_pred))"
   ]
  },
  {
   "cell_type": "markdown",
   "id": "f49b91a8",
   "metadata": {},
   "source": [
    "# testing data evaluation"
   ]
  },
  {
   "cell_type": "code",
   "execution_count": 12,
   "id": "8b821937",
   "metadata": {},
   "outputs": [
    {
     "name": "stdout",
     "output_type": "stream",
     "text": [
      "classification for classifier VotingClassifier(estimators=[('tree',\n",
      "                              DecisionTreeClassifier(max_depth=5,\n",
      "                                                     random_state=42)),\n",
      "                             ('rf1',\n",
      "                              RandomForestClassifier(max_depth=2,\n",
      "                                                     n_estimators=500,\n",
      "                                                     random_state=42)),\n",
      "                             ('rf2',\n",
      "                              RandomForestClassifier(max_depth=3,\n",
      "                                                     n_estimators=1300,\n",
      "                                                     random_state=42)),\n",
      "                             ('svc1',\n",
      "                              SVC(C=10, decision_function_shape='ovo', gamma=1,\n",
      "                                  kernel='sigmoid', probability=True,\n",
      "                                  random_state=42)),\n",
      "                             ('svc2',\n",
      "                              SVC(C=1000, decision_function_shape='ovo',\n",
      "                                  gamma=1, probability=True,\n",
      "                                  random_state=42))],\n",
      "                 voting='soft'):\n",
      "              precision    recall  f1-score   support\n",
      "\n",
      "         0.0       0.67      0.29      0.40         7\n",
      "         1.0       0.67      0.91      0.77        11\n",
      "\n",
      "    accuracy                           0.67        18\n",
      "   macro avg       0.67      0.60      0.58        18\n",
      "weighted avg       0.67      0.67      0.63        18\n",
      "\n",
      "\n"
     ]
    }
   ],
   "source": [
    "from sklearn import metrics\n",
    "expected = y_test\n",
    "predicted = voting_clf.predict(X_test)\n",
    "\n",
    "print(\"classification for classifier %s:\\n%s\\n\"\n",
    "      % (voting_clf, metrics.classification_report(expected, predicted)))"
   ]
  },
  {
   "cell_type": "code",
   "execution_count": 13,
   "id": "5da7db7b",
   "metadata": {},
   "outputs": [
    {
     "name": "stdout",
     "output_type": "stream",
     "text": [
      "VotingClassifier 0.6666666666666666\n"
     ]
    }
   ],
   "source": [
    "from sklearn.metrics import accuracy_score\n",
    "y_pred = voting_clf.predict(X_test)\n",
    "print(voting_clf.__class__.__name__, accuracy_score(y_test, y_pred))"
   ]
  },
  {
   "cell_type": "code",
   "execution_count": 14,
   "id": "daadb8d6",
   "metadata": {},
   "outputs": [
    {
     "name": "stdout",
     "output_type": "stream",
     "text": [
      "voting classifier confusion matrix:\n",
      " [[ 2  5]\n",
      " [ 1 10]]\n"
     ]
    }
   ],
   "source": [
    "from sklearn.metrics import confusion_matrix\n",
    "cm = confusion_matrix(y_test, y_pred)\n",
    "print(\"voting classifier confusion matrix:\\n\", cm)"
   ]
  }
 ],
 "metadata": {
  "kernelspec": {
   "display_name": "Python 3",
   "language": "python",
   "name": "python3"
  },
  "language_info": {
   "codemirror_mode": {
    "name": "ipython",
    "version": 3
   },
   "file_extension": ".py",
   "mimetype": "text/x-python",
   "name": "python",
   "nbconvert_exporter": "python",
   "pygments_lexer": "ipython3",
   "version": "3.8.8"
  }
 },
 "nbformat": 4,
 "nbformat_minor": 5
}
