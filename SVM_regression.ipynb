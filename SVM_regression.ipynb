{
 "cells": [
  {
   "cell_type": "markdown",
   "id": "bf4dc474",
   "metadata": {},
   "source": [
    "# set up"
   ]
  },
  {
   "cell_type": "code",
   "execution_count": 1,
   "id": "0efe1fef",
   "metadata": {},
   "outputs": [],
   "source": [
    "# Python ≥3.5 is required\n",
    "import sys\n",
    "assert sys.version_info >= (3, 5)\n",
    "\n",
    "# Scikit-Learn ≥0.20 is required\n",
    "import sklearn\n",
    "assert sklearn.__version__ >= \"0.20\"\n",
    "\n",
    "# Common imports\n",
    "import numpy as np\n",
    "import os\n",
    "\n",
    "# to make this notebook's output stable across runs\n",
    "np.random.seed(42)\n",
    "\n",
    "# To plot pretty figures\n",
    "%matplotlib inline\n",
    "import matplotlib as mpl\n",
    "import matplotlib.pyplot as plt\n",
    "mpl.rc('axes', labelsize=14)\n",
    "mpl.rc('xtick', labelsize=12)\n",
    "mpl.rc('ytick', labelsize=12)\n",
    "\n",
    "# Where to save the figures\n",
    "PROJECT_ROOT_DIR = \".\"\n",
    "CHAPTER_ID = \"decision_trees\"\n",
    "IMAGES_PATH = os.path.join(PROJECT_ROOT_DIR, \"images\", CHAPTER_ID)\n",
    "os.makedirs(IMAGES_PATH, exist_ok=True)\n",
    "\n",
    "def save_fig(fig_id, tight_layout=True, fig_extension=\"png\", resolution=300):\n",
    "    path = os.path.join(IMAGES_PATH, fig_id + \".\" + fig_extension)\n",
    "    print(\"Saving figure\", fig_id)\n",
    "    if tight_layout:\n",
    "        plt.tight_layout()\n",
    "    plt.savefig(path, format=fig_extension, dpi=resolution)"
   ]
  },
  {
   "cell_type": "markdown",
   "id": "1c0aec7e",
   "metadata": {},
   "source": [
    "# import dataset"
   ]
  },
  {
   "cell_type": "markdown",
   "id": "13ee0ba7",
   "metadata": {},
   "source": [
    "## read data from excel"
   ]
  },
  {
   "cell_type": "code",
   "execution_count": 2,
   "id": "406c7aac",
   "metadata": {},
   "outputs": [],
   "source": [
    "import pandas as pd\n",
    "data = pd.read_excel(r'C:\\Users\\ASUS\\Desktop\\machine learning\\MLfinalReport\\AHIdata.xlsx')"
   ]
  },
  {
   "cell_type": "markdown",
   "id": "f91b1055",
   "metadata": {},
   "source": [
    "## extract y from excel"
   ]
  },
  {
   "cell_type": "code",
   "execution_count": 3,
   "id": "58e5a2e5",
   "metadata": {},
   "outputs": [
    {
     "name": "stdout",
     "output_type": "stream",
     "text": [
      "<class 'pandas.core.frame.DataFrame'>\n"
     ]
    }
   ],
   "source": [
    "df = pd.DataFrame(data, columns=['rescored AHI'])\n",
    "print(type(df))#datatype is pd.dataframe not numpy array\n",
    "df_2D = df.to_numpy()#convert into numpy array\n",
    "#print(df_2D)#now it is numpy 2d array"
   ]
  },
  {
   "cell_type": "code",
   "execution_count": 4,
   "id": "e435c701",
   "metadata": {
    "scrolled": true
   },
   "outputs": [
    {
     "name": "stdout",
     "output_type": "stream",
     "text": [
      "[ 15.2  12.   27.8  71.2  34.3  86.9  17.5  78.3  40.5  21.2  94.7  40.2\n",
      "  41.1  11.5  61.4 108.8  59.6  24.1   9.5  33.2  11.9  76.7  29.7  23.7\n",
      "  38.   79.9  13.8  61.9   8.8   8.5  37.1  38.7  33.9  46.4  34.5  25.8\n",
      "  82.3  13.4  85.4  42.9  24.3  37.8  16.9  47.6  50.   21.1   1.6   2.1\n",
      "  12.3  66.3  27.9  17.    2.   11.   53.   20.8  50.9  15.6  66.2  56.1\n",
      "  49.8  10.2  77.7   7.2   3.   47.3  78.9  15.6   9.   47.2  12.    7.6\n",
      "  42.3  26.3   7.5  31.5   1.9  15.8  11.6   8.5  20.5  52.4  20.2  16.6\n",
      "  19.8  37.9  60.2  36.1  24.5  24.6  22.4  30.   16.9   7.7   8.8   7.1\n",
      "  39.1   4.6   1.8  97.3  60.5   6.9  28.3  41.   75.   13.7  89.2  76.5\n",
      "  85.   77.   51.2   3.3  78.1   7.9  26.9  80.5  30.9  66.9   2.3]\n"
     ]
    }
   ],
   "source": [
    "y_stack = df_2D.flatten()#flatten into 1d array\n",
    "print(y_stack)"
   ]
  },
  {
   "cell_type": "markdown",
   "id": "793ab201",
   "metadata": {},
   "source": [
    "## extract inputs from excel"
   ]
  },
  {
   "cell_type": "code",
   "execution_count": 5,
   "id": "d9e9cbc7",
   "metadata": {},
   "outputs": [],
   "source": [
    "#BMI\n",
    "x1 = pd.DataFrame(data, columns=['BMI'])\n",
    "x1_2D = x1.to_numpy()#convert into numpy array\n",
    "x_bmi = x1_2D.flatten()#flatten into 1d array\n",
    "#Age\n",
    "x2 = pd.DataFrame(data, columns=['Age'])\n",
    "x2_2D = x2.to_numpy()#convert into numpy array\n",
    "x_age = x2_2D.flatten()#flatten into 1d array\n",
    "#neck\n",
    "x3 = pd.DataFrame(data, columns=['neck'])\n",
    "x3_2D = x3.to_numpy()#convert into numpy array\n",
    "x_neck = x3_2D.flatten()#flatten into 1d array\n",
    "#desaturatino index\n",
    "x4 = pd.DataFrame(data, columns=['desaturation index'])\n",
    "x4_2D = x4.to_numpy()#convert into numpy array\n",
    "x_dsi = x4_2D.flatten()#flatten into 1d array\n",
    "#CVHR-OR_CEI\n",
    "x5 = pd.DataFrame(data, columns=['Aligned CVHR-OR-CEI'])\n",
    "x5_2D = x5.to_numpy()#convert into numpy array\n",
    "x_cvhrorcei = x5_2D.flatten()#flatten into 1d array\n",
    "#CVHRI\n",
    "x6 = pd.DataFrame(data, columns=['CVHRI'])\n",
    "x6_2D = x6.to_numpy()#convert into numpy array\n",
    "x_cvhri = x6_2D.flatten()#flatten into 1d array\n",
    "#CEI\n",
    "x7 = pd.DataFrame(data, columns=['CEI'])\n",
    "x7_2D = x7.to_numpy()#convert into numpy array\n",
    "x_cei = x7_2D.flatten()#flatten into 1d array"
   ]
  },
  {
   "cell_type": "markdown",
   "id": "6cf9abfe",
   "metadata": {},
   "source": [
    "# Data preprocessing"
   ]
  },
  {
   "cell_type": "markdown",
   "id": "60bae1e0",
   "metadata": {},
   "source": [
    "## decide your inputs"
   ]
  },
  {
   "cell_type": "code",
   "execution_count": 6,
   "id": "aa312288",
   "metadata": {},
   "outputs": [],
   "source": [
    "X_stack = np.stack((x_cvhrorcei, x_bmi), axis=-1)"
   ]
  },
  {
   "cell_type": "markdown",
   "id": "802dc85a",
   "metadata": {},
   "source": [
    "## data rescaling"
   ]
  },
  {
   "cell_type": "code",
   "execution_count": 7,
   "id": "0d03bb7f",
   "metadata": {},
   "outputs": [],
   "source": [
    "from sklearn.preprocessing import MinMaxScaler\n",
    "scaler = MinMaxScaler()\n",
    "X_transpose = scaler.fit_transform(X_stack.T)\n",
    "X = X_transpose.T"
   ]
  },
  {
   "cell_type": "markdown",
   "id": "a0c742ac",
   "metadata": {},
   "source": [
    "## train test split"
   ]
  },
  {
   "cell_type": "code",
   "execution_count": 8,
   "id": "460911de",
   "metadata": {},
   "outputs": [],
   "source": [
    "from sklearn.model_selection import train_test_split \n",
    "X_trainval, X_test, y_trainval, y_test = train_test_split(X, y_stack, test_size=0.15, shuffle=False)\n",
    "X_train, X_val, y_train, y_val = train_test_split(X_trainval, y_trainval, test_size=0.4, shuffle=False)"
   ]
  },
  {
   "cell_type": "markdown",
   "id": "8c97596b",
   "metadata": {},
   "source": [
    "# Training SVR model"
   ]
  },
  {
   "cell_type": "markdown",
   "id": "c6ad988a",
   "metadata": {},
   "source": [
    "## decide hyperparameters"
   ]
  },
  {
   "cell_type": "code",
   "execution_count": 9,
   "id": "f95ce0af",
   "metadata": {},
   "outputs": [],
   "source": [
    "from sklearn.model_selection import GridSearchCV\n",
    "param_dist = {'C': [0.1, 1, 10, 100, 1000],\n",
    "              'gamma': [1, 0.1, 0.01, 0.001, 0.0001],\n",
    "              'kernel': ['linear', 'rbf', 'poly', 'sigmoid'],\n",
    "              'epsilon':[0.01, 0.1, 1, 10, 100]}"
   ]
  },
  {
   "cell_type": "code",
   "execution_count": 10,
   "id": "b19f994c",
   "metadata": {},
   "outputs": [
    {
     "data": {
      "text/plain": [
       "GridSearchCV(cv=3, estimator=SVR(), n_jobs=-1,\n",
       "             param_grid={'C': [0.1, 1, 10, 100, 1000],\n",
       "                         'epsilon': [0.01, 0.1, 1, 10, 100],\n",
       "                         'gamma': [1, 0.1, 0.01, 0.001, 0.0001],\n",
       "                         'kernel': ['linear', 'rbf', 'poly', 'sigmoid']},\n",
       "             scoring='neg_root_mean_squared_error')"
      ]
     },
     "execution_count": 10,
     "metadata": {},
     "output_type": "execute_result"
    }
   ],
   "source": [
    "from sklearn import svm\n",
    "model = svm.SVR()\n",
    "grid =GridSearchCV(model, param_dist, cv=3, scoring='neg_root_mean_squared_error', n_jobs=-1)\n",
    "grid.fit(X_val, y_val)"
   ]
  },
  {
   "cell_type": "code",
   "execution_count": 11,
   "id": "51c5c535",
   "metadata": {},
   "outputs": [
    {
     "data": {
      "text/plain": [
       "{'C': 10, 'epsilon': 1, 'gamma': 1, 'kernel': 'sigmoid'}"
      ]
     },
     "execution_count": 11,
     "metadata": {},
     "output_type": "execute_result"
    }
   ],
   "source": [
    "grid.best_params_"
   ]
  },
  {
   "cell_type": "markdown",
   "id": "3004e947",
   "metadata": {},
   "source": [
    "## create a SVR model"
   ]
  },
  {
   "cell_type": "code",
   "execution_count": 12,
   "id": "f37c6961",
   "metadata": {},
   "outputs": [],
   "source": [
    "from sklearn.svm import SVR\n",
    "model = svm.SVR(kernel = grid.best_params_.get('kernel'), \n",
    "                C = grid.best_params_.get('C'), \n",
    "                gamma = grid.best_params_.get('gamma'), \n",
    "                epsilon = grid.best_params_.get('epsilon'))"
   ]
  },
  {
   "cell_type": "code",
   "execution_count": 13,
   "id": "50cfeae3",
   "metadata": {},
   "outputs": [
    {
     "data": {
      "text/plain": [
       "SVR(C=10, epsilon=1, gamma=1, kernel='sigmoid')"
      ]
     },
     "execution_count": 13,
     "metadata": {},
     "output_type": "execute_result"
    }
   ],
   "source": [
    "model.fit(X_train, y_train)"
   ]
  },
  {
   "cell_type": "markdown",
   "id": "ba4d1ff8",
   "metadata": {},
   "source": [
    "# testing data evaluation"
   ]
  },
  {
   "cell_type": "markdown",
   "id": "85c150ca",
   "metadata": {},
   "source": [
    "## MAE"
   ]
  },
  {
   "cell_type": "code",
   "execution_count": 14,
   "id": "02f7f5e2",
   "metadata": {},
   "outputs": [
    {
     "name": "stdout",
     "output_type": "stream",
     "text": [
      "22.70000010532749\n"
     ]
    }
   ],
   "source": [
    "from sklearn.metrics import mean_absolute_error as mae\n",
    "y_test_expect = model.predict(X_test)\n",
    "print(mae(y_test, y_test_expect))"
   ]
  },
  {
   "cell_type": "markdown",
   "id": "0b4402b6",
   "metadata": {},
   "source": [
    "## RMSE"
   ]
  },
  {
   "cell_type": "code",
   "execution_count": 15,
   "id": "6b313707",
   "metadata": {},
   "outputs": [
    {
     "name": "stdout",
     "output_type": "stream",
     "text": [
      "25.486554272166277\n"
     ]
    }
   ],
   "source": [
    "from sklearn.metrics import mean_squared_error\n",
    "print(mean_squared_error(y_test, y_test_expect, squared=False))"
   ]
  },
  {
   "cell_type": "markdown",
   "id": "fe572981",
   "metadata": {},
   "source": [
    "#### from sklearn website: https://scikit-learn.org/stable/modules/generated/sklearn.svm.SVR.html"
   ]
  },
  {
   "cell_type": "code",
   "execution_count": 16,
   "id": "c66cab9f",
   "metadata": {},
   "outputs": [],
   "source": [
    "# from sklearn.svm import SVR\n",
    "# from sklearn.pipeline import make_pipeline\n",
    "# from sklearn.preprocessing import StandardScaler\n",
    "# import numpy as np\n",
    "# regr = make_pipeline(StandardScaler(), SVR(C=1.0, epsilon=0.2))\n",
    "# regr.fit(X_train, y_train)"
   ]
  },
  {
   "cell_type": "code",
   "execution_count": 17,
   "id": "a90b2136",
   "metadata": {},
   "outputs": [],
   "source": [
    "# def plot_svm_regression(svm_reg, X, y, axes):\n",
    "#     x1s = np.linspace(axes[0], axes[1], 100).reshape(100, 1)\n",
    "#     y_pred = svm_reg.predict(x1s)\n",
    "#     plt.plot(x1s, y_pred, \"k-\", linewidth=2, label=r\"$\\hat{y}$\")\n",
    "#     plt.plot(x1s, y_pred + svm_reg.epsilon, \"k--\")\n",
    "#     plt.plot(x1s, y_pred - svm_reg.epsilon, \"k--\")\n",
    "#     plt.scatter(X[svm_reg.support_], y[svm_reg.support_], s=180, facecolors='#FFAAAA')\n",
    "#     plt.plot(X, y, \"bo\")\n",
    "#     plt.xlabel(r\"$x_1$\", fontsize=18)\n",
    "#     plt.legend(loc=\"upper left\", fontsize=18)\n",
    "#     plt.axis(axes)\n",
    "\n",
    "# fig, axes = plt.subplots(ncols=2, figsize=(9, 4), sharey=True)\n",
    "# plt.sca(axes[0])\n",
    "# plot_svm_regression(svm_reg1, X, y, [0, 2, 3, 11])\n",
    "# plt.title(r\"$\\epsilon = {}$\".format(svm_reg1.epsilon), fontsize=18)\n",
    "# plt.ylabel(r\"$y$\", fontsize=18, rotation=0)\n",
    "# #plt.plot([eps_x1, eps_x1], [eps_y_pred, eps_y_pred - svm_reg1.epsilon], \"k-\", linewidth=2)\n",
    "# plt.annotate(\n",
    "#         '', xy=(eps_x1, eps_y_pred), xycoords='data',\n",
    "#         xytext=(eps_x1, eps_y_pred - svm_reg1.epsilon),\n",
    "#         textcoords='data', arrowprops={'arrowstyle': '<->', 'linewidth': 1.5}\n",
    "#     )\n",
    "# plt.text(0.91, 5.6, r\"$\\epsilon$\", fontsize=20)\n",
    "# plt.sca(axes[1])\n",
    "# plot_svm_regression(svm_reg2, X, y, [0, 2, 3, 11])\n",
    "# plt.title(r\"$\\epsilon = {}$\".format(svm_reg2.epsilon), fontsize=18)\n",
    "# save_fig(\"svm_regression_plot\")\n",
    "# plt.show()"
   ]
  },
  {
   "cell_type": "code",
   "execution_count": null,
   "id": "07a84475",
   "metadata": {},
   "outputs": [],
   "source": []
  }
 ],
 "metadata": {
  "kernelspec": {
   "display_name": "Python 3",
   "language": "python",
   "name": "python3"
  },
  "language_info": {
   "codemirror_mode": {
    "name": "ipython",
    "version": 3
   },
   "file_extension": ".py",
   "mimetype": "text/x-python",
   "name": "python",
   "nbconvert_exporter": "python",
   "pygments_lexer": "ipython3",
   "version": "3.8.8"
  }
 },
 "nbformat": 4,
 "nbformat_minor": 5
}
